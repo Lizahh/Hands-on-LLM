{
  "nbformat": 4,
  "nbformat_minor": 0,
  "metadata": {
    "colab": {
      "provenance": []
    },
    "kernelspec": {
      "name": "python3",
      "display_name": "Python 3"
    },
    "language_info": {
      "name": "python"
    }
  },
  "cells": [
    {
      "cell_type": "markdown",
      "source": [
        "# **Logistic Regression in StatsModels using Formula API:**\n",
        "\n",
        "* Linear regression → jab number predict karna ho (jaise weight).\n",
        "\n",
        "* Logistic regression → jab Yes/No ya 0/1 predict karna ho (jaise patient ko disease hai ya nahi, student pass hai ya fail).\n"
      ],
      "metadata": {
        "id": "HfbN20OpiD2V"
      }
    },
    {
      "cell_type": "code",
      "source": [
        "import statsmodels.formula.api as smf\n",
        "import pandas as pd\n",
        "\n",
        "data = pd.DataFrame({\n",
        "    'age': [20, 25, 30, 35, 40, 45, 28, 33],\n",
        "    'smoker': [0, 0, 0, 1, 1, 1, 1, 0]   # ab perfect separation nahi hai\n",
        "})\n",
        "\n",
        "model = smf.logit('smoker ~ age', data=data).fit()\n",
        "print(model.summary())\n"
      ],
      "metadata": {
        "colab": {
          "base_uri": "https://localhost:8080/"
        },
        "id": "4iKrYrKWiPii",
        "outputId": "bab64537-bf3a-4922-be3f-1f4bdbb469dd"
      },
      "execution_count": null,
      "outputs": [
        {
          "output_type": "stream",
          "name": "stdout",
          "text": [
            "Optimization terminated successfully.\n",
            "         Current function value: 0.417667\n",
            "         Iterations 7\n",
            "                           Logit Regression Results                           \n",
            "==============================================================================\n",
            "Dep. Variable:                 smoker   No. Observations:                    8\n",
            "Model:                          Logit   Df Residuals:                        6\n",
            "Method:                           MLE   Df Model:                            1\n",
            "Date:                Tue, 02 Sep 2025   Pseudo R-squ.:                  0.3974\n",
            "Time:                        17:47:42   Log-Likelihood:                -3.3413\n",
            "converged:                       True   LL-Null:                       -5.5452\n",
            "Covariance Type:            nonrobust   LLR p-value:                   0.03578\n",
            "==============================================================================\n",
            "                 coef    std err          z      P>|z|      [0.025      0.975]\n",
            "------------------------------------------------------------------------------\n",
            "Intercept     -9.4853      6.708     -1.414      0.157     -22.632       3.662\n",
            "age            0.2992      0.211      1.415      0.157      -0.115       0.714\n",
            "==============================================================================\n"
          ]
        }
      ]
    },
    {
      "cell_type": "markdown",
      "source": [
        "Predictions:"
      ],
      "metadata": {
        "id": "QadXYVoRiD44"
      }
    },
    {
      "cell_type": "code",
      "source": [
        "print(model.predict(pd.DataFrame({'age':[28, 50]})))"
      ],
      "metadata": {
        "colab": {
          "base_uri": "https://localhost:8080/"
        },
        "id": "FxsubJfTizKf",
        "outputId": "7c6636e5-9d22-487a-9709-991c55ae4655"
      },
      "execution_count": null,
      "outputs": [
        {
          "output_type": "stream",
          "name": "stdout",
          "text": [
            "0    0.248232\n",
            "1    0.995823\n",
            "dtype: float64\n"
          ]
        }
      ]
    },
    {
      "cell_type": "markdown",
      "source": [
        "Ye bolega:\n",
        "\n",
        "28 saal wale ke smoker hone ka chance 24% eh.\n",
        "\n",
        "50 saal wale ke smoker hone ka chance kitna 99% eh.\n",
        "\n",
        "## **Issues in Logistic Regression:**\n",
        "\n",
        "Logistic regression simple sa rule follow karta hai:\n",
        "\n",
        " > Agar data 100% perfectly separate ho jaye (jaise tumhare case me age → smoker), to wo fit hi nahi kar paata → aur wahi error deta hai: PerfectSeparationWarning aur Singular matrix. Ye ek math ka error hai jo tab hota hai jab equation solve hi na ho sake.\n",
        "Tumhari situation me → kyunki predictor (age) ne outcome (smoker) ko perfectly split kar diya (0 aur 1 me).\n",
        "\n",
        " > Agar data me thoda overlap ho (kuch young smokers, kuch older non-smokers), to model fit ho jata hai aur achi summary deta hai.\n"
      ],
      "metadata": {
        "id": "VyycSHKriD7L"
      }
    },
    {
      "cell_type": "markdown",
      "source": [
        "# **Multiple Regression in StatsModels using Formula API:**\n",
        "\n",
        "Ye asal me wahi OLS (linear regression) hai, bas ek se zyada predictors:\n",
        "\n",
        "        model = smf.ols(\"y ~ x1 + x2 + x3\", data=df).fit()\n",
        "\n",
        "\n"
      ],
      "metadata": {
        "id": "qbzY5dtEj58h"
      }
    },
    {
      "cell_type": "markdown",
      "source": [
        "| Problem type        | Formula API possible? | Example                   |        |\n",
        "| ------------------- | --------------------- | ------------------------- | ------ |\n",
        "| Linear regression   | ✅                     | weight \\~ height + age    |        |\n",
        "| Multiple regression | ✅                     | y \\~ x1 + x2 + x3         |        |\n",
        "| Logistic regression | ✅                     | outcome \\~ age + gender   |        |\n",
        "| Poisson/GLM         | ✅                     | counts \\~ x1 + x2         |        |\n",
        "| ANOVA               | ✅ (via ols)           | score \\~ C(group)         |        |\n",
        "| Mixed effects       | ✅                     | y \\~ x + (1 group) |\n",
        "| Time series         | ❌ (Data API)                     | ARIMA, SARIMAX            |        |\n",
        "| t-test / chi-square | ❌ (Use simple funcs)                    | ttest\\_ind(), chisquare() |        |\n",
        "| PCA / clustering    | ❌                     | sm or sklearn functions   |        |\n"
      ],
      "metadata": {
        "id": "UpNu8bzIkbN-"
      }
    },
    {
      "cell_type": "markdown",
      "source": [
        "🔹 Step 1: Dekho problem ka type\n",
        "\n",
        "**Regression type problem?**\n",
        "\n",
        "Predict karna hai koi numeric outcome (weight, salary, temperature) → linear regression\n",
        "\n",
        "Predict karna hai categorical outcome (0/1, yes/no, type of class) → logistic regression, Poisson regression, GLM\n",
        "✅ Ye sab formula API me easy hoti hai: 'y ~ x1 + x2'\n",
        "\n",
        "**Time series problem?**\n",
        "\n",
        "Predict future values based on past values → ARIMA, SARIMAX, ETS\n",
        "❌ Formula API nahi hoti, direct series data API use karte ho\n",
        "\n",
        "**Hypothesis test / basic stats?**\n",
        "\n",
        "t-test, chi-square, correlation → formula API nahi, simple functions use karte ho\n",
        "\n",
        "      sm.stats.ttest_ind(x1, x2)\n",
        "      sm.stats.chisquare(observed)\n",
        "\n",
        "\n",
        "**Mixed effects / grouped data?**\n",
        "\n",
        "Agar data me groups hain (schools, patients, repeated measures) → smf.mixedlm\n",
        "✅ Formula API se possible"
      ],
      "metadata": {
        "id": "0cdQLzQAkwq6"
      }
    },
    {
      "cell_type": "markdown",
      "source": [
        "# **----------------------- Data API -----------------------**\n",
        "\n"
      ],
      "metadata": {
        "id": "JSG6h0H5lMD5"
      }
    },
    {
      "cell_type": "markdown",
      "source": [
        "* Tum khud apna Y (dependent variable) aur X (independent variables) nikal kar arrays/series ke form me model ko dete ho.\n",
        "\n",
        "Difference:\n",
        "\n",
        "* Formula API:\n",
        "\n",
        "```\n",
        "import statsmodels.formula.api as smf\n",
        "\n",
        "model = smf.ols('weight ~ height + age', data=df).fit()\n",
        "\n",
        "```\n",
        "\n",
        "* Data API:\n",
        "\n",
        "```\n",
        "import statsmodels.api as sm\n",
        "\n",
        "X = df[['height', 'age']]   # independent variables\n",
        "X = sm.add_constant(X)      # intercept add karna padta hai manually\n",
        "y = df['weight']            # dependent variable\n",
        "\n",
        "model = sm.OLS(y, X).fit()\n",
        "\n",
        "```\n",
        "\n"
      ],
      "metadata": {
        "id": "7RHHIzp1usEk"
      }
    },
    {
      "cell_type": "markdown",
      "source": [
        "# **3️⃣ Data API kab use karte hain?**\n",
        "\n",
        "✅ Jab:\n",
        "\n",
        "* Tumhare paas formula likhne ki zarurat nahi E.G 'weight ~ height + age' (direct arrays bana liye).\n",
        "\n",
        "* Tumhe full control chahiye (intercept add karna, design matrix banana, lagged variables generate karna).\n",
        "\n",
        "* Time series models (ARIMA, SARIMA, VAR) — kyunki inme formula API kam use hota hai, zyadatar Data API use hota hai."
      ],
      "metadata": {
        "id": "YmxkOuaOvK7o"
      }
    },
    {
      "cell_type": "markdown",
      "source": [
        "# **4️⃣ Important Models with Data API**\n",
        "\n",
        "🔸 Linear Regression\n",
        "\n",
        "      model = sm.OLS(y, X).fit()\n",
        "\n",
        "🔸 Logistic Regression\n",
        "\n",
        "      model = sm.Logit(y, X).fit()\n",
        "\n",
        "🔸 Time Series\n",
        "\n",
        "ARIMA:\n",
        "\n",
        "      model = sm.tsa.ARIMA(series, order=(p,d,q)).fit()\n",
        "\n",
        "\n",
        "SARIMA:\n",
        "\n",
        "      model = sm.tsa.SARIMAX(series, order=(p,d,q), seasonal_order=(P,D,Q,s)).fit()\n",
        "\n",
        "\n",
        "VAR (Vector AutoRegression):\n",
        "\n",
        "      model = sm.tsa.VAR(df).fit()\n"
      ],
      "metadata": {
        "id": "0dvMvjknvS50"
      }
    },
    {
      "cell_type": "markdown",
      "source": [
        "# **5️⃣ Cheezen jo Formula API me auto hoti hain, par Data API me manually karni padti hain**\n",
        "\n",
        "* Intercept (constant column) → Formula API automatically add karta hai, Data API me tumhe sm.add_constant(X) likhna padta hai.\n",
        "\n",
        "* Column reference by name → Formula API string me naam likh kar kaam kar leta hai, Data API me tumhe df[['col1','col2']] nikalna padta hai.\n",
        "\n",
        "* Categorical encoding → Formula API automatically categorical variables ko dummy bana deta hai, Data API me tumhe khud pd.get_dummies() use karna padta hai."
      ],
      "metadata": {
        "id": "MBtfph7gvmlL"
      }
    },
    {
      "cell_type": "markdown",
      "source": [
        "# **🔹 Categorical Encoding kya hota hai?**\n",
        "\n",
        "Machine learning / regression models numbers samajhte hain, words nahi.\n",
        "\n",
        "Agar tumhare data me column aisa ho:\n",
        "| Name | Color | Weight |\n",
        "| ---- | ----- | ------ |\n",
        "| A    | Red   | 10     |\n",
        "| B    | Blue  | 15     |\n",
        "| C    | Green | 20     |\n",
        "\n",
        "Color ek categorical variable hai (Red, Blue, Green).\n",
        "Model ko confuse ho jayega → ye to numbers hi nahi hain!\n",
        "\n",
        "🔹 Formula API me kya hota hai?\n",
        "\n",
        "Formula API automatically categories ko dummy variables bana deta hai.\n",
        "\n",
        "Example:\n",
        "\n",
        "```\n",
        "import pandas as pd\n",
        "import statsmodels.formula.api as smf\n",
        "\n",
        "data = pd.DataFrame({\n",
        "    'Weight': [10, 15, 20],\n",
        "    'Color': ['Red', 'Blue', 'Green']\n",
        "})\n",
        "\n",
        "model = smf.ols('Weight ~ Color', data=data).fit()\n",
        "print(model.summary())\n",
        "\n",
        "```\n",
        "👉 Isme Color automatically convert hoga:\n",
        "\n",
        "Color[Blue]\n",
        "\n",
        "Color[Green]\n",
        "\n",
        "(ek category ko base bana ke, baaki ko 0/1 columns)\n",
        "\n",
        "🔹 Data API me kya karna padta hai?\n",
        "\n",
        "Data API automatic conversion nahi karega. Tumhe khud pd.get_dummies() likhna padta hai.\n",
        "\n",
        "```\n",
        "import statsmodels.api as sm\n",
        "\n",
        "X = pd.get_dummies(data['Color'], drop_first=True)  # dummy variables manually\n",
        "X = sm.add_constant(X)  \n",
        "y = data['Weight']\n",
        "\n",
        "model = sm.OLS(y, X).fit()\n",
        "print(model.summary())\n",
        "\n",
        "```\n",
        "\n"
      ],
      "metadata": {
        "id": "7tAUCGS-v7vj"
      }
    },
    {
      "cell_type": "markdown",
      "source": [
        "# **Time Series me kyu Data API?**\n",
        "\n",
        "Time series models (ARIMA, SARIMA) formula API pe depend nahi karte.\n",
        "\n",
        "Waha tum usually ek hi series dete ho (e.g., sales over time).\n",
        "\n",
        "Example:\n",
        "\n",
        "import statsmodels.api as sm\n",
        "\n",
        "model = sm.tsa.ARIMA(series, order=(1,1,1)).fit()\n",
        "\n",
        "\n",
        "👉 Yahan tum formula likh ke nahi bata rahe \"sales ~ lagged_sales\".\n",
        "Model automatically time lags handle kar leta hai.\n",
        "\n",
        "So, in time series use data API.\n",
        "\n",
        "So,\n",
        "\n",
        "Cross-sectional regression (OLS, logistic regression) → Formula API zyada convenient.\n",
        "\n",
        "Time series analysis (ARIMA, SARIMA, VAR, seasonal trends) → Data API essential.\n",
        "\n",
        "### **🔹 1. Cross-sectional data kya hota hai?**\n",
        "\n",
        "Ek point of time pe alag-alag log/cheezein observe karte ho.\n",
        "\n",
        "Example:\n",
        "\n",
        "100 students ka height, weight, age ek hi saal me measure karna.\n",
        "\n",
        "Ek din me 50 shops ki sales record karna.\n",
        "\n",
        "👉 Matlab: “ek waqt pe, bohot saare subjects”\n",
        "\n",
        "### **🔹 2. Time series data kya hota hai?**\n",
        "\n",
        "Ek hi cheez ko alag-alag times pe dekhte ho.\n",
        "\n",
        "Example:\n",
        "\n",
        "1 dukaan ki sales har din ka record.\n",
        "\n",
        "Pakistan ka GDP har saal ka record.\n",
        "\n",
        "👉 Matlab: “ek subject, waqt ke sath repeat hote values”\n",
        "\n",
        "🔹 3. Cross-sectional regression\n",
        "\n",
        "Jab tum cross-sectional data use karke regression lagate ho.\n",
        "\n",
        "Example:\n",
        "\n",
        "Weight ~ Height + Age\n",
        "\n",
        "\n",
        "Ek waqt pe alag-alag logon ka data, unke height & age se weight predict karte ho.\n",
        "\n",
        "🔹 4. Time series regression / models\n",
        "\n",
        "Jab tum ek hi cheez ka data over time le kar pattern samajhte ho.\n",
        "\n",
        "Example:\n",
        "\n",
        "Sales_t ~ Sales_(t-1) + Sales_(t-2)\n",
        "\n",
        "\n",
        "Aaj ki sales ko kal & parso ki sales se predict karna.\n",
        "\n",
        "ARIMA, SARIMA yahin pe aate hain.\n",
        "\n",
        "\n"
      ],
      "metadata": {
        "id": "4rV74Ay0zIhr"
      }
    }
  ]
}