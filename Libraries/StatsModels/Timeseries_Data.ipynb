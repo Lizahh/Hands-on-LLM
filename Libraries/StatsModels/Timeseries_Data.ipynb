{
  "nbformat": 4,
  "nbformat_minor": 0,
  "metadata": {
    "colab": {
      "provenance": []
    },
    "kernelspec": {
      "name": "python3",
      "display_name": "Python 3"
    },
    "language_info": {
      "name": "python"
    }
  },
  "cells": [
    {
      "cell_type": "markdown",
      "source": [
        "# **1. Understand Time Series**\n",
        "\n",
        "* **Definition:** Data collected over time, ***where order matters.***\n",
        "\n",
        "* **Examples:** Stock prices, monthly sales, temperature readings.\n",
        "\n",
        "## **Key Components:**\n",
        "\n",
        "* Trend – long-term movement (up/down)\n",
        "\n",
        "* Seasonality – repeating pattern (daily, weekly, yearly)\n",
        "\n",
        "* Noise – random fluctuations\n",
        "\n",
        "* Cyclic patterns – irregular ups & downs, longer than seasonal"
      ],
      "metadata": {
        "id": "c_rCY14kumqW"
      }
    },
    {
      "cell_type": "markdown",
      "source": [
        "# **2. Explore the Data**\n",
        "\n",
        "Always plot your data first:"
      ],
      "metadata": {
        "id": "cP0PN7DcvAvh"
      }
    },
    {
      "cell_type": "code",
      "source": [
        "import matplotlib.pyplot as plt\n",
        "plt.plot(data['date'], data['value'])\n",
        "plt.show()"
      ],
      "metadata": {
        "id": "YhzskqbevCeH"
      },
      "execution_count": null,
      "outputs": []
    },
    {
      "cell_type": "markdown",
      "source": [
        "Look for trend, seasonality, outliers, and missing data."
      ],
      "metadata": {
        "id": "hI0dQ_ldvIQd"
      }
    },
    {
      "cell_type": "markdown",
      "source": [
        "# **3. Preprocessing**\n",
        "\n",
        "> ## **Check missing values → fill with forward/backward fill.**\n",
        "\n",
        "* Sometimes your time series has holes (missing days, missing numbers).\n",
        "\n",
        "* Example: You forgot to record sales on Tuesday.\n",
        "\n",
        "* To fix:\n",
        "\n",
        "  * Forward fill (ffill): copy the last known value forward.\n",
        "\n",
        "  * Backward fill (bfill): copy the next known value backward.\n",
        "\n",
        "  * This makes the series complete (no blanks).\n",
        "\n",
        "* For example in the following table, the value of Tue is missing, you can fill it either with Mon's value 100 (Forward fill) or Wed's value 120 (Backward Fill).\n",
        "\n",
        "\n",
        "> ## **Check stationarity → mean & variance should be constant.**\n",
        "\n",
        "* Stationary data means its behavior is stable over time.\n",
        "\n",
        "* In stationary series:\n",
        "\n",
        "  * Average (mean) doesn’t change much.\n",
        "\n",
        "  * Spread (variance) doesn’t change much.\n",
        "\n",
        "* Example:\n",
        "\n",
        "  * If sales are always around 100 ± 10, stable. ✅\n",
        "\n",
        "  * If sales keep rising 100 → 200 → 300 → … that’s not stationary ❌ (there’s a trend).\n",
        "\n",
        "* Many models (like ARIMA) only work well on stationary data.\n",
        "\n",
        "> ## **Use ADF test in Python (statsmodels.tsa.stattools.adfuller).****\n",
        "\n",
        "* ADF = Augmented Dickey-Fuller test.\n",
        "\n",
        "* It checks: “Is my data stationary or not?”\n",
        "\n",
        "* Output gives a p-value:\n",
        "\n",
        "  * Small p-value (≤ 0.05) → data is stationary ✅\n",
        "\n",
        "  * Large p-value (> 0.05) → data is not stationary ❌\n",
        "\n",
        "\n",
        "> ## **Transform data if needed: log, diff, or scaling.**\n",
        "\n",
        "* If data is not stationary, you can transform it:\n",
        "\n",
        "* Log transform: Helps when data grows exponentially (like population, prices).\n",
        "\n",
        "  * Example: 10, 100, 1000 → take log → 1, 2, 3.\n",
        "\n",
        "* Differencing: Subtract current value from previous value.\n",
        "\n",
        "  * Example: [100, 120, 130] → differences [20, 10].\n",
        "\n",
        "* Removes trend.\n",
        "\n",
        "* Scaling/Normalization: Adjust values into smaller range so model handles them better.\n",
        "\n",
        "Preprocessing = cleaning + stabilizing the data so the time series model can learn patterns correctly.\n"
      ],
      "metadata": {
        "id": "L6PQ8tBRumsx"
      }
    },
    {
      "cell_type": "markdown",
      "source": [
        "# **4. Time Series Models**\n",
        "\n",
        "* Classical Models\n",
        "\n",
        "  * AR (Autoregressive): Uses past values to predict future.\n",
        "\n",
        "  * MA (Moving Average): Uses past errors to predict.\n",
        "\n",
        "  * ARMA/ARIMA: AR + MA + Integration (trend handling).\n",
        "\n",
        "  * SARIMA: ARIMA + seasonality.\n",
        "\n",
        "  * ML / Deep Learning Models\n",
        "\n",
        "  * Prophet / NeuralProphet – easy, handles trend & seasonality automatically.\n",
        "\n",
        "  * LSTM / GRU (Deep Learning) – captures complex patterns in sequences."
      ],
      "metadata": {
        "id": "DBCBVIYAumvz"
      }
    },
    {
      "cell_type": "markdown",
      "source": [
        "# **5. Model Evaluation**\n",
        "\n",
        "* Use train-test split in time order (don’t shuffle!).\n",
        "\n",
        "* Metrics:\n",
        "\n",
        "  * MAE (Mean Absolute Error)\n",
        "\n",
        "  * RMSE (Root Mean Squared Error)\n",
        "\n",
        "  * MAPE (Mean Absolute Percentage Error)\n",
        "\n",
        "  ![image.png](data:image/png;base64,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)\n",
        "\n",
        "  \n",
        "* Lower MAPE = better predictions.\n",
        "\n",
        "* Example: MAPE = 5% means “on average, predictions are off by 5%.”"
      ],
      "metadata": {
        "id": "hrvtMnL8R2oq"
      }
    },
    {
      "cell_type": "markdown",
      "source": [
        "# **6. Forecasting**\n",
        "\n",
        "* Fit your model on historical data.\n",
        "\n",
        "* Predict next periods (days, months, etc.).\n",
        "\n",
        "* Always visualize predictions vs actuals.\n",
        "\n",
        "```\n",
        "plt.plot(train, label='Train')\n",
        "plt.plot(test, label='Test')\n",
        "plt.plot(predictions, label='Forecast')\n",
        "plt.legend()\n",
        "plt.show()\n",
        "\n",
        "```"
      ],
      "metadata": {
        "id": "6Ke8aAqYSYWU"
      }
    },
    {
      "cell_type": "markdown",
      "source": [
        "# **7. Real-Life Example**\n",
        "\n",
        "* Imagine monthly sales data:\n",
        "\n",
        "  * Trend: sales slowly increasing year by year.\n",
        "\n",
        "  * Seasonality: peak every December (holiday shopping).\n",
        "\n",
        "  * Noise: random dips due to stock shortage or weather.\n",
        "\n",
        "A pro knows:\n",
        "\n",
        "  * First check trends & seasonality\n",
        "\n",
        "  * Then choose model (ARIMA/Prophet/LSTM)\n",
        "\n",
        "  * Tune hyperparameters carefully\n",
        "\n",
        "  * Evaluate forecasts and adjust"
      ],
      "metadata": {
        "id": "NQMrRE4zSYbO"
      }
    },
    {
      "cell_type": "markdown",
      "source": [
        "## **------------ Real Life Example of working on NVIDIA Stocks -------------**"
      ],
      "metadata": {
        "id": "RpRom4hiSYfE"
      }
    },
    {
      "cell_type": "code",
      "source": [
        "import yfinance as yf\n",
        "data = yf.download('NVDA', start='2023-01-01', end='2024-01-01')\n",
        "data.to_csv('nvda_data.csv')"
      ],
      "metadata": {
        "colab": {
          "base_uri": "https://localhost:8080/"
        },
        "id": "wjys6R1pZUIu",
        "outputId": "4c63eedb-0a6d-44f7-ff89-634590743477"
      },
      "execution_count": 2,
      "outputs": [
        {
          "output_type": "stream",
          "name": "stderr",
          "text": [
            "/tmp/ipython-input-4086555188.py:2: FutureWarning: YF.download() has changed argument auto_adjust default to True\n",
            "  data = yf.download('NVDA', start='2023-01-01', end='2024-01-01')\n",
            "[*********************100%***********************]  1 of 1 completed\n"
          ]
        }
      ]
    },
    {
      "cell_type": "markdown",
      "source": [
        "# **Step 1: Load & Explore Data**"
      ],
      "metadata": {
        "id": "jJAE-c4zZqiF"
      }
    },
    {
      "cell_type": "code",
      "source": [
        "import pandas as pd\n",
        "\n",
        "data = pd.read_csv(\"/content/nvda_data.csv\")\n",
        "data.head()"
      ],
      "metadata": {
        "colab": {
          "base_uri": "https://localhost:8080/",
          "height": 206
        },
        "id": "8EunqFMjZnNd",
        "outputId": "e35b3970-7ff9-471c-e77d-1c6af19bb980"
      },
      "execution_count": 15,
      "outputs": [
        {
          "output_type": "execute_result",
          "data": {
            "text/plain": [
              "        Price               Close                High                 Low  \\\n",
              "0      Ticker                NVDA                NVDA                NVDA   \n",
              "1        Date                 NaN                 NaN                 NaN   \n",
              "2  2023-01-03  14.302287101745605  14.982683046541192  14.083481722564576   \n",
              "3  2023-01-04   14.73590087890625  14.839808607059629  14.228352617509586   \n",
              "4  2023-01-05  14.252330780029297   14.55106500758206  14.135434115107048   \n",
              "\n",
              "                 Open     Volume  \n",
              "0                NVDA       NVDA  \n",
              "1                 NaN        NaN  \n",
              "2  14.837811356872233  401277000  \n",
              "3  14.554063307465187  431324000  \n",
              "4  14.478129888796087  389168000  "
            ],
            "text/html": [
              "\n",
              "  <div id=\"df-7ea22c92-3565-42e9-a621-a62d4d520cd6\" class=\"colab-df-container\">\n",
              "    <div>\n",
              "<style scoped>\n",
              "    .dataframe tbody tr th:only-of-type {\n",
              "        vertical-align: middle;\n",
              "    }\n",
              "\n",
              "    .dataframe tbody tr th {\n",
              "        vertical-align: top;\n",
              "    }\n",
              "\n",
              "    .dataframe thead th {\n",
              "        text-align: right;\n",
              "    }\n",
              "</style>\n",
              "<table border=\"1\" class=\"dataframe\">\n",
              "  <thead>\n",
              "    <tr style=\"text-align: right;\">\n",
              "      <th></th>\n",
              "      <th>Price</th>\n",
              "      <th>Close</th>\n",
              "      <th>High</th>\n",
              "      <th>Low</th>\n",
              "      <th>Open</th>\n",
              "      <th>Volume</th>\n",
              "    </tr>\n",
              "  </thead>\n",
              "  <tbody>\n",
              "    <tr>\n",
              "      <th>0</th>\n",
              "      <td>Ticker</td>\n",
              "      <td>NVDA</td>\n",
              "      <td>NVDA</td>\n",
              "      <td>NVDA</td>\n",
              "      <td>NVDA</td>\n",
              "      <td>NVDA</td>\n",
              "    </tr>\n",
              "    <tr>\n",
              "      <th>1</th>\n",
              "      <td>Date</td>\n",
              "      <td>NaN</td>\n",
              "      <td>NaN</td>\n",
              "      <td>NaN</td>\n",
              "      <td>NaN</td>\n",
              "      <td>NaN</td>\n",
              "    </tr>\n",
              "    <tr>\n",
              "      <th>2</th>\n",
              "      <td>2023-01-03</td>\n",
              "      <td>14.302287101745605</td>\n",
              "      <td>14.982683046541192</td>\n",
              "      <td>14.083481722564576</td>\n",
              "      <td>14.837811356872233</td>\n",
              "      <td>401277000</td>\n",
              "    </tr>\n",
              "    <tr>\n",
              "      <th>3</th>\n",
              "      <td>2023-01-04</td>\n",
              "      <td>14.73590087890625</td>\n",
              "      <td>14.839808607059629</td>\n",
              "      <td>14.228352617509586</td>\n",
              "      <td>14.554063307465187</td>\n",
              "      <td>431324000</td>\n",
              "    </tr>\n",
              "    <tr>\n",
              "      <th>4</th>\n",
              "      <td>2023-01-05</td>\n",
              "      <td>14.252330780029297</td>\n",
              "      <td>14.55106500758206</td>\n",
              "      <td>14.135434115107048</td>\n",
              "      <td>14.478129888796087</td>\n",
              "      <td>389168000</td>\n",
              "    </tr>\n",
              "  </tbody>\n",
              "</table>\n",
              "</div>\n",
              "    <div class=\"colab-df-buttons\">\n",
              "\n",
              "  <div class=\"colab-df-container\">\n",
              "    <button class=\"colab-df-convert\" onclick=\"convertToInteractive('df-7ea22c92-3565-42e9-a621-a62d4d520cd6')\"\n",
              "            title=\"Convert this dataframe to an interactive table.\"\n",
              "            style=\"display:none;\">\n",
              "\n",
              "  <svg xmlns=\"http://www.w3.org/2000/svg\" height=\"24px\" viewBox=\"0 -960 960 960\">\n",
              "    <path d=\"M120-120v-720h720v720H120Zm60-500h600v-160H180v160Zm220 220h160v-160H400v160Zm0 220h160v-160H400v160ZM180-400h160v-160H180v160Zm440 0h160v-160H620v160ZM180-180h160v-160H180v160Zm440 0h160v-160H620v160Z\"/>\n",
              "  </svg>\n",
              "    </button>\n",
              "\n",
              "  <style>\n",
              "    .colab-df-container {\n",
              "      display:flex;\n",
              "      gap: 12px;\n",
              "    }\n",
              "\n",
              "    .colab-df-convert {\n",
              "      background-color: #E8F0FE;\n",
              "      border: none;\n",
              "      border-radius: 50%;\n",
              "      cursor: pointer;\n",
              "      display: none;\n",
              "      fill: #1967D2;\n",
              "      height: 32px;\n",
              "      padding: 0 0 0 0;\n",
              "      width: 32px;\n",
              "    }\n",
              "\n",
              "    .colab-df-convert:hover {\n",
              "      background-color: #E2EBFA;\n",
              "      box-shadow: 0px 1px 2px rgba(60, 64, 67, 0.3), 0px 1px 3px 1px rgba(60, 64, 67, 0.15);\n",
              "      fill: #174EA6;\n",
              "    }\n",
              "\n",
              "    .colab-df-buttons div {\n",
              "      margin-bottom: 4px;\n",
              "    }\n",
              "\n",
              "    [theme=dark] .colab-df-convert {\n",
              "      background-color: #3B4455;\n",
              "      fill: #D2E3FC;\n",
              "    }\n",
              "\n",
              "    [theme=dark] .colab-df-convert:hover {\n",
              "      background-color: #434B5C;\n",
              "      box-shadow: 0px 1px 3px 1px rgba(0, 0, 0, 0.15);\n",
              "      filter: drop-shadow(0px 1px 2px rgba(0, 0, 0, 0.3));\n",
              "      fill: #FFFFFF;\n",
              "    }\n",
              "  </style>\n",
              "\n",
              "    <script>\n",
              "      const buttonEl =\n",
              "        document.querySelector('#df-7ea22c92-3565-42e9-a621-a62d4d520cd6 button.colab-df-convert');\n",
              "      buttonEl.style.display =\n",
              "        google.colab.kernel.accessAllowed ? 'block' : 'none';\n",
              "\n",
              "      async function convertToInteractive(key) {\n",
              "        const element = document.querySelector('#df-7ea22c92-3565-42e9-a621-a62d4d520cd6');\n",
              "        const dataTable =\n",
              "          await google.colab.kernel.invokeFunction('convertToInteractive',\n",
              "                                                    [key], {});\n",
              "        if (!dataTable) return;\n",
              "\n",
              "        const docLinkHtml = 'Like what you see? Visit the ' +\n",
              "          '<a target=\"_blank\" href=https://colab.research.google.com/notebooks/data_table.ipynb>data table notebook</a>'\n",
              "          + ' to learn more about interactive tables.';\n",
              "        element.innerHTML = '';\n",
              "        dataTable['output_type'] = 'display_data';\n",
              "        await google.colab.output.renderOutput(dataTable, element);\n",
              "        const docLink = document.createElement('div');\n",
              "        docLink.innerHTML = docLinkHtml;\n",
              "        element.appendChild(docLink);\n",
              "      }\n",
              "    </script>\n",
              "  </div>\n",
              "\n",
              "\n",
              "    <div id=\"df-0b562d48-3176-48bc-94c8-3c857e611991\">\n",
              "      <button class=\"colab-df-quickchart\" onclick=\"quickchart('df-0b562d48-3176-48bc-94c8-3c857e611991')\"\n",
              "                title=\"Suggest charts\"\n",
              "                style=\"display:none;\">\n",
              "\n",
              "<svg xmlns=\"http://www.w3.org/2000/svg\" height=\"24px\"viewBox=\"0 0 24 24\"\n",
              "     width=\"24px\">\n",
              "    <g>\n",
              "        <path d=\"M19 3H5c-1.1 0-2 .9-2 2v14c0 1.1.9 2 2 2h14c1.1 0 2-.9 2-2V5c0-1.1-.9-2-2-2zM9 17H7v-7h2v7zm4 0h-2V7h2v10zm4 0h-2v-4h2v4z\"/>\n",
              "    </g>\n",
              "</svg>\n",
              "      </button>\n",
              "\n",
              "<style>\n",
              "  .colab-df-quickchart {\n",
              "      --bg-color: #E8F0FE;\n",
              "      --fill-color: #1967D2;\n",
              "      --hover-bg-color: #E2EBFA;\n",
              "      --hover-fill-color: #174EA6;\n",
              "      --disabled-fill-color: #AAA;\n",
              "      --disabled-bg-color: #DDD;\n",
              "  }\n",
              "\n",
              "  [theme=dark] .colab-df-quickchart {\n",
              "      --bg-color: #3B4455;\n",
              "      --fill-color: #D2E3FC;\n",
              "      --hover-bg-color: #434B5C;\n",
              "      --hover-fill-color: #FFFFFF;\n",
              "      --disabled-bg-color: #3B4455;\n",
              "      --disabled-fill-color: #666;\n",
              "  }\n",
              "\n",
              "  .colab-df-quickchart {\n",
              "    background-color: var(--bg-color);\n",
              "    border: none;\n",
              "    border-radius: 50%;\n",
              "    cursor: pointer;\n",
              "    display: none;\n",
              "    fill: var(--fill-color);\n",
              "    height: 32px;\n",
              "    padding: 0;\n",
              "    width: 32px;\n",
              "  }\n",
              "\n",
              "  .colab-df-quickchart:hover {\n",
              "    background-color: var(--hover-bg-color);\n",
              "    box-shadow: 0 1px 2px rgba(60, 64, 67, 0.3), 0 1px 3px 1px rgba(60, 64, 67, 0.15);\n",
              "    fill: var(--button-hover-fill-color);\n",
              "  }\n",
              "\n",
              "  .colab-df-quickchart-complete:disabled,\n",
              "  .colab-df-quickchart-complete:disabled:hover {\n",
              "    background-color: var(--disabled-bg-color);\n",
              "    fill: var(--disabled-fill-color);\n",
              "    box-shadow: none;\n",
              "  }\n",
              "\n",
              "  .colab-df-spinner {\n",
              "    border: 2px solid var(--fill-color);\n",
              "    border-color: transparent;\n",
              "    border-bottom-color: var(--fill-color);\n",
              "    animation:\n",
              "      spin 1s steps(1) infinite;\n",
              "  }\n",
              "\n",
              "  @keyframes spin {\n",
              "    0% {\n",
              "      border-color: transparent;\n",
              "      border-bottom-color: var(--fill-color);\n",
              "      border-left-color: var(--fill-color);\n",
              "    }\n",
              "    20% {\n",
              "      border-color: transparent;\n",
              "      border-left-color: var(--fill-color);\n",
              "      border-top-color: var(--fill-color);\n",
              "    }\n",
              "    30% {\n",
              "      border-color: transparent;\n",
              "      border-left-color: var(--fill-color);\n",
              "      border-top-color: var(--fill-color);\n",
              "      border-right-color: var(--fill-color);\n",
              "    }\n",
              "    40% {\n",
              "      border-color: transparent;\n",
              "      border-right-color: var(--fill-color);\n",
              "      border-top-color: var(--fill-color);\n",
              "    }\n",
              "    60% {\n",
              "      border-color: transparent;\n",
              "      border-right-color: var(--fill-color);\n",
              "    }\n",
              "    80% {\n",
              "      border-color: transparent;\n",
              "      border-right-color: var(--fill-color);\n",
              "      border-bottom-color: var(--fill-color);\n",
              "    }\n",
              "    90% {\n",
              "      border-color: transparent;\n",
              "      border-bottom-color: var(--fill-color);\n",
              "    }\n",
              "  }\n",
              "</style>\n",
              "\n",
              "      <script>\n",
              "        async function quickchart(key) {\n",
              "          const quickchartButtonEl =\n",
              "            document.querySelector('#' + key + ' button');\n",
              "          quickchartButtonEl.disabled = true;  // To prevent multiple clicks.\n",
              "          quickchartButtonEl.classList.add('colab-df-spinner');\n",
              "          try {\n",
              "            const charts = await google.colab.kernel.invokeFunction(\n",
              "                'suggestCharts', [key], {});\n",
              "          } catch (error) {\n",
              "            console.error('Error during call to suggestCharts:', error);\n",
              "          }\n",
              "          quickchartButtonEl.classList.remove('colab-df-spinner');\n",
              "          quickchartButtonEl.classList.add('colab-df-quickchart-complete');\n",
              "        }\n",
              "        (() => {\n",
              "          let quickchartButtonEl =\n",
              "            document.querySelector('#df-0b562d48-3176-48bc-94c8-3c857e611991 button');\n",
              "          quickchartButtonEl.style.display =\n",
              "            google.colab.kernel.accessAllowed ? 'block' : 'none';\n",
              "        })();\n",
              "      </script>\n",
              "    </div>\n",
              "\n",
              "    </div>\n",
              "  </div>\n"
            ],
            "application/vnd.google.colaboratory.intrinsic+json": {
              "type": "dataframe",
              "variable_name": "data",
              "summary": "{\n  \"name\": \"data\",\n  \"rows\": 252,\n  \"fields\": [\n    {\n      \"column\": \"Price\",\n      \"properties\": {\n        \"dtype\": \"string\",\n        \"num_unique_values\": 252,\n        \"samples\": [\n          \"2023-08-28\",\n          \"2023-01-09\",\n          \"2023-06-09\"\n        ],\n        \"semantic_type\": \"\",\n        \"description\": \"\"\n      }\n    },\n    {\n      \"column\": \"Close\",\n      \"properties\": {\n        \"dtype\": \"string\",\n        \"num_unique_values\": 250,\n        \"samples\": [\n          \"45.87177658081055\",\n          \"15.894872665405273\",\n          \"31.153600692749023\"\n        ],\n        \"semantic_type\": \"\",\n        \"description\": \"\"\n      }\n    },\n    {\n      \"column\": \"High\",\n      \"properties\": {\n        \"dtype\": \"string\",\n        \"num_unique_values\": 251,\n        \"samples\": [\n          \"45.2401654426178\",\n          \"15.947825096516842\",\n          \"46.951105584017796\"\n        ],\n        \"semantic_type\": \"\",\n        \"description\": \"\"\n      }\n    },\n    {\n      \"column\": \"Low\",\n      \"properties\": {\n        \"dtype\": \"string\",\n        \"num_unique_values\": 251,\n        \"samples\": [\n          \"43.683121014623126\",\n          \"15.458260461795822\",\n          \"44.860393165521366\"\n        ],\n        \"semantic_type\": \"\",\n        \"description\": \"\"\n      }\n    },\n    {\n      \"column\": \"Open\",\n      \"properties\": {\n        \"dtype\": \"string\",\n        \"num_unique_values\": 251,\n        \"samples\": [\n          \"44.53260062164396\",\n          \"15.493229228157693\",\n          \"46.453410769401096\"\n        ],\n        \"semantic_type\": \"\",\n        \"description\": \"\"\n      }\n    },\n    {\n      \"column\": \"Volume\",\n      \"properties\": {\n        \"dtype\": \"string\",\n        \"num_unique_values\": 251,\n        \"samples\": [\n          \"676512000\",\n          \"384101000\",\n          \"685192000\"\n        ],\n        \"semantic_type\": \"\",\n        \"description\": \"\"\n      }\n    }\n  ]\n}"
            }
          },
          "metadata": {},
          "execution_count": 15
        }
      ]
    },
    {
      "cell_type": "code",
      "source": [
        "data.columns = [\"Date\", \"Close\", \"High\", \"Low\", \"Open\", \"Volume\"]"
      ],
      "metadata": {
        "id": "vBj5viKwb7ln"
      },
      "execution_count": 16,
      "outputs": []
    },
    {
      "cell_type": "code",
      "source": [
        "data = data[2:]\n",
        "data.head()"
      ],
      "metadata": {
        "colab": {
          "base_uri": "https://localhost:8080/",
          "height": 206
        },
        "id": "y16EhwXIb7n4",
        "outputId": "9ad92bbe-5e4e-4b1d-de50-900892260783"
      },
      "execution_count": 19,
      "outputs": [
        {
          "output_type": "execute_result",
          "data": {
            "text/plain": [
              "         Date               Close                High                 Low  \\\n",
              "4  2023-01-05  14.252330780029297   14.55106500758206  14.135434115107048   \n",
              "5  2023-01-06  14.845804214477539  14.996670137157544   14.02153707163228   \n",
              "6  2023-01-09  15.614119529724121  16.041738878678775   15.12755161626986   \n",
              "7  2023-01-10  15.894872665405273  15.947825096516842  15.458260461795822   \n",
              "8  2023-01-11  15.986787796020508   16.01376424221786  15.549177090180791   \n",
              "\n",
              "                 Open     Volume  \n",
              "4  14.478129888796087  389168000  \n",
              "5  14.461145896873958  405044000  \n",
              "6  15.270425206407127  504231000  \n",
              "7  15.493229228157693  384101000  \n",
              "8   15.82593149314411  353285000  "
            ],
            "text/html": [
              "\n",
              "  <div id=\"df-698b5154-221d-41e3-bb72-e5da1be4ecad\" class=\"colab-df-container\">\n",
              "    <div>\n",
              "<style scoped>\n",
              "    .dataframe tbody tr th:only-of-type {\n",
              "        vertical-align: middle;\n",
              "    }\n",
              "\n",
              "    .dataframe tbody tr th {\n",
              "        vertical-align: top;\n",
              "    }\n",
              "\n",
              "    .dataframe thead th {\n",
              "        text-align: right;\n",
              "    }\n",
              "</style>\n",
              "<table border=\"1\" class=\"dataframe\">\n",
              "  <thead>\n",
              "    <tr style=\"text-align: right;\">\n",
              "      <th></th>\n",
              "      <th>Date</th>\n",
              "      <th>Close</th>\n",
              "      <th>High</th>\n",
              "      <th>Low</th>\n",
              "      <th>Open</th>\n",
              "      <th>Volume</th>\n",
              "    </tr>\n",
              "  </thead>\n",
              "  <tbody>\n",
              "    <tr>\n",
              "      <th>4</th>\n",
              "      <td>2023-01-05</td>\n",
              "      <td>14.252330780029297</td>\n",
              "      <td>14.55106500758206</td>\n",
              "      <td>14.135434115107048</td>\n",
              "      <td>14.478129888796087</td>\n",
              "      <td>389168000</td>\n",
              "    </tr>\n",
              "    <tr>\n",
              "      <th>5</th>\n",
              "      <td>2023-01-06</td>\n",
              "      <td>14.845804214477539</td>\n",
              "      <td>14.996670137157544</td>\n",
              "      <td>14.02153707163228</td>\n",
              "      <td>14.461145896873958</td>\n",
              "      <td>405044000</td>\n",
              "    </tr>\n",
              "    <tr>\n",
              "      <th>6</th>\n",
              "      <td>2023-01-09</td>\n",
              "      <td>15.614119529724121</td>\n",
              "      <td>16.041738878678775</td>\n",
              "      <td>15.12755161626986</td>\n",
              "      <td>15.270425206407127</td>\n",
              "      <td>504231000</td>\n",
              "    </tr>\n",
              "    <tr>\n",
              "      <th>7</th>\n",
              "      <td>2023-01-10</td>\n",
              "      <td>15.894872665405273</td>\n",
              "      <td>15.947825096516842</td>\n",
              "      <td>15.458260461795822</td>\n",
              "      <td>15.493229228157693</td>\n",
              "      <td>384101000</td>\n",
              "    </tr>\n",
              "    <tr>\n",
              "      <th>8</th>\n",
              "      <td>2023-01-11</td>\n",
              "      <td>15.986787796020508</td>\n",
              "      <td>16.01376424221786</td>\n",
              "      <td>15.549177090180791</td>\n",
              "      <td>15.82593149314411</td>\n",
              "      <td>353285000</td>\n",
              "    </tr>\n",
              "  </tbody>\n",
              "</table>\n",
              "</div>\n",
              "    <div class=\"colab-df-buttons\">\n",
              "\n",
              "  <div class=\"colab-df-container\">\n",
              "    <button class=\"colab-df-convert\" onclick=\"convertToInteractive('df-698b5154-221d-41e3-bb72-e5da1be4ecad')\"\n",
              "            title=\"Convert this dataframe to an interactive table.\"\n",
              "            style=\"display:none;\">\n",
              "\n",
              "  <svg xmlns=\"http://www.w3.org/2000/svg\" height=\"24px\" viewBox=\"0 -960 960 960\">\n",
              "    <path d=\"M120-120v-720h720v720H120Zm60-500h600v-160H180v160Zm220 220h160v-160H400v160Zm0 220h160v-160H400v160ZM180-400h160v-160H180v160Zm440 0h160v-160H620v160ZM180-180h160v-160H180v160Zm440 0h160v-160H620v160Z\"/>\n",
              "  </svg>\n",
              "    </button>\n",
              "\n",
              "  <style>\n",
              "    .colab-df-container {\n",
              "      display:flex;\n",
              "      gap: 12px;\n",
              "    }\n",
              "\n",
              "    .colab-df-convert {\n",
              "      background-color: #E8F0FE;\n",
              "      border: none;\n",
              "      border-radius: 50%;\n",
              "      cursor: pointer;\n",
              "      display: none;\n",
              "      fill: #1967D2;\n",
              "      height: 32px;\n",
              "      padding: 0 0 0 0;\n",
              "      width: 32px;\n",
              "    }\n",
              "\n",
              "    .colab-df-convert:hover {\n",
              "      background-color: #E2EBFA;\n",
              "      box-shadow: 0px 1px 2px rgba(60, 64, 67, 0.3), 0px 1px 3px 1px rgba(60, 64, 67, 0.15);\n",
              "      fill: #174EA6;\n",
              "    }\n",
              "\n",
              "    .colab-df-buttons div {\n",
              "      margin-bottom: 4px;\n",
              "    }\n",
              "\n",
              "    [theme=dark] .colab-df-convert {\n",
              "      background-color: #3B4455;\n",
              "      fill: #D2E3FC;\n",
              "    }\n",
              "\n",
              "    [theme=dark] .colab-df-convert:hover {\n",
              "      background-color: #434B5C;\n",
              "      box-shadow: 0px 1px 3px 1px rgba(0, 0, 0, 0.15);\n",
              "      filter: drop-shadow(0px 1px 2px rgba(0, 0, 0, 0.3));\n",
              "      fill: #FFFFFF;\n",
              "    }\n",
              "  </style>\n",
              "\n",
              "    <script>\n",
              "      const buttonEl =\n",
              "        document.querySelector('#df-698b5154-221d-41e3-bb72-e5da1be4ecad button.colab-df-convert');\n",
              "      buttonEl.style.display =\n",
              "        google.colab.kernel.accessAllowed ? 'block' : 'none';\n",
              "\n",
              "      async function convertToInteractive(key) {\n",
              "        const element = document.querySelector('#df-698b5154-221d-41e3-bb72-e5da1be4ecad');\n",
              "        const dataTable =\n",
              "          await google.colab.kernel.invokeFunction('convertToInteractive',\n",
              "                                                    [key], {});\n",
              "        if (!dataTable) return;\n",
              "\n",
              "        const docLinkHtml = 'Like what you see? Visit the ' +\n",
              "          '<a target=\"_blank\" href=https://colab.research.google.com/notebooks/data_table.ipynb>data table notebook</a>'\n",
              "          + ' to learn more about interactive tables.';\n",
              "        element.innerHTML = '';\n",
              "        dataTable['output_type'] = 'display_data';\n",
              "        await google.colab.output.renderOutput(dataTable, element);\n",
              "        const docLink = document.createElement('div');\n",
              "        docLink.innerHTML = docLinkHtml;\n",
              "        element.appendChild(docLink);\n",
              "      }\n",
              "    </script>\n",
              "  </div>\n",
              "\n",
              "\n",
              "    <div id=\"df-b7bef627-4959-4231-8f97-0cf8a9bb435e\">\n",
              "      <button class=\"colab-df-quickchart\" onclick=\"quickchart('df-b7bef627-4959-4231-8f97-0cf8a9bb435e')\"\n",
              "                title=\"Suggest charts\"\n",
              "                style=\"display:none;\">\n",
              "\n",
              "<svg xmlns=\"http://www.w3.org/2000/svg\" height=\"24px\"viewBox=\"0 0 24 24\"\n",
              "     width=\"24px\">\n",
              "    <g>\n",
              "        <path d=\"M19 3H5c-1.1 0-2 .9-2 2v14c0 1.1.9 2 2 2h14c1.1 0 2-.9 2-2V5c0-1.1-.9-2-2-2zM9 17H7v-7h2v7zm4 0h-2V7h2v10zm4 0h-2v-4h2v4z\"/>\n",
              "    </g>\n",
              "</svg>\n",
              "      </button>\n",
              "\n",
              "<style>\n",
              "  .colab-df-quickchart {\n",
              "      --bg-color: #E8F0FE;\n",
              "      --fill-color: #1967D2;\n",
              "      --hover-bg-color: #E2EBFA;\n",
              "      --hover-fill-color: #174EA6;\n",
              "      --disabled-fill-color: #AAA;\n",
              "      --disabled-bg-color: #DDD;\n",
              "  }\n",
              "\n",
              "  [theme=dark] .colab-df-quickchart {\n",
              "      --bg-color: #3B4455;\n",
              "      --fill-color: #D2E3FC;\n",
              "      --hover-bg-color: #434B5C;\n",
              "      --hover-fill-color: #FFFFFF;\n",
              "      --disabled-bg-color: #3B4455;\n",
              "      --disabled-fill-color: #666;\n",
              "  }\n",
              "\n",
              "  .colab-df-quickchart {\n",
              "    background-color: var(--bg-color);\n",
              "    border: none;\n",
              "    border-radius: 50%;\n",
              "    cursor: pointer;\n",
              "    display: none;\n",
              "    fill: var(--fill-color);\n",
              "    height: 32px;\n",
              "    padding: 0;\n",
              "    width: 32px;\n",
              "  }\n",
              "\n",
              "  .colab-df-quickchart:hover {\n",
              "    background-color: var(--hover-bg-color);\n",
              "    box-shadow: 0 1px 2px rgba(60, 64, 67, 0.3), 0 1px 3px 1px rgba(60, 64, 67, 0.15);\n",
              "    fill: var(--button-hover-fill-color);\n",
              "  }\n",
              "\n",
              "  .colab-df-quickchart-complete:disabled,\n",
              "  .colab-df-quickchart-complete:disabled:hover {\n",
              "    background-color: var(--disabled-bg-color);\n",
              "    fill: var(--disabled-fill-color);\n",
              "    box-shadow: none;\n",
              "  }\n",
              "\n",
              "  .colab-df-spinner {\n",
              "    border: 2px solid var(--fill-color);\n",
              "    border-color: transparent;\n",
              "    border-bottom-color: var(--fill-color);\n",
              "    animation:\n",
              "      spin 1s steps(1) infinite;\n",
              "  }\n",
              "\n",
              "  @keyframes spin {\n",
              "    0% {\n",
              "      border-color: transparent;\n",
              "      border-bottom-color: var(--fill-color);\n",
              "      border-left-color: var(--fill-color);\n",
              "    }\n",
              "    20% {\n",
              "      border-color: transparent;\n",
              "      border-left-color: var(--fill-color);\n",
              "      border-top-color: var(--fill-color);\n",
              "    }\n",
              "    30% {\n",
              "      border-color: transparent;\n",
              "      border-left-color: var(--fill-color);\n",
              "      border-top-color: var(--fill-color);\n",
              "      border-right-color: var(--fill-color);\n",
              "    }\n",
              "    40% {\n",
              "      border-color: transparent;\n",
              "      border-right-color: var(--fill-color);\n",
              "      border-top-color: var(--fill-color);\n",
              "    }\n",
              "    60% {\n",
              "      border-color: transparent;\n",
              "      border-right-color: var(--fill-color);\n",
              "    }\n",
              "    80% {\n",
              "      border-color: transparent;\n",
              "      border-right-color: var(--fill-color);\n",
              "      border-bottom-color: var(--fill-color);\n",
              "    }\n",
              "    90% {\n",
              "      border-color: transparent;\n",
              "      border-bottom-color: var(--fill-color);\n",
              "    }\n",
              "  }\n",
              "</style>\n",
              "\n",
              "      <script>\n",
              "        async function quickchart(key) {\n",
              "          const quickchartButtonEl =\n",
              "            document.querySelector('#' + key + ' button');\n",
              "          quickchartButtonEl.disabled = true;  // To prevent multiple clicks.\n",
              "          quickchartButtonEl.classList.add('colab-df-spinner');\n",
              "          try {\n",
              "            const charts = await google.colab.kernel.invokeFunction(\n",
              "                'suggestCharts', [key], {});\n",
              "          } catch (error) {\n",
              "            console.error('Error during call to suggestCharts:', error);\n",
              "          }\n",
              "          quickchartButtonEl.classList.remove('colab-df-spinner');\n",
              "          quickchartButtonEl.classList.add('colab-df-quickchart-complete');\n",
              "        }\n",
              "        (() => {\n",
              "          let quickchartButtonEl =\n",
              "            document.querySelector('#df-b7bef627-4959-4231-8f97-0cf8a9bb435e button');\n",
              "          quickchartButtonEl.style.display =\n",
              "            google.colab.kernel.accessAllowed ? 'block' : 'none';\n",
              "        })();\n",
              "      </script>\n",
              "    </div>\n",
              "\n",
              "    </div>\n",
              "  </div>\n"
            ],
            "application/vnd.google.colaboratory.intrinsic+json": {
              "type": "dataframe",
              "variable_name": "data",
              "repr_error": "0"
            }
          },
          "metadata": {},
          "execution_count": 19
        }
      ]
    },
    {
      "cell_type": "code",
      "source": [
        "data.info()"
      ],
      "metadata": {
        "colab": {
          "base_uri": "https://localhost:8080/"
        },
        "id": "goFBTvpGZnQC",
        "outputId": "a206a52b-0687-4fcd-e00d-5ba11259e8e8"
      },
      "execution_count": 20,
      "outputs": [
        {
          "output_type": "stream",
          "name": "stdout",
          "text": [
            "<class 'pandas.core.frame.DataFrame'>\n",
            "RangeIndex: 248 entries, 4 to 251\n",
            "Data columns (total 6 columns):\n",
            " #   Column  Non-Null Count  Dtype \n",
            "---  ------  --------------  ----- \n",
            " 0   Date    248 non-null    object\n",
            " 1   Close   248 non-null    object\n",
            " 2   High    248 non-null    object\n",
            " 3   Low     248 non-null    object\n",
            " 4   Open    248 non-null    object\n",
            " 5   Volume  248 non-null    object\n",
            "dtypes: object(6)\n",
            "memory usage: 11.8+ KB\n"
          ]
        }
      ]
    },
    {
      "cell_type": "markdown",
      "source": [
        "# **Step 2: Choose the Target Variable**\n",
        "\n",
        "Usually stock time series me Close ya Adj Close use karte hain."
      ],
      "metadata": {
        "id": "wm2AtyIZaBY_"
      }
    },
    {
      "cell_type": "code",
      "source": [
        "ts = data['Close']"
      ],
      "metadata": {
        "id": "ALSbHsuDZnUs"
      },
      "execution_count": 21,
      "outputs": []
    },
    {
      "cell_type": "code",
      "source": [
        "ts"
      ],
      "metadata": {
        "colab": {
          "base_uri": "https://localhost:8080/",
          "height": 458
        },
        "id": "Lj844KM2ZnZR",
        "outputId": "c5cc6d54-2a70-44dc-c110-6e5da029083c"
      },
      "execution_count": 22,
      "outputs": [
        {
          "output_type": "execute_result",
          "data": {
            "text/plain": [
              "4      14.252330780029297\n",
              "5      14.845804214477539\n",
              "6      15.614119529724121\n",
              "7      15.894872665405273\n",
              "8      15.986787796020508\n",
              "              ...        \n",
              "247     48.80828094482422\n",
              "248    49.257076263427734\n",
              "249        49.39501953125\n",
              "250     49.49997329711914\n",
              "251     49.49997329711914\n",
              "Name: Close, Length: 248, dtype: object"
            ],
            "text/html": [
              "<div>\n",
              "<style scoped>\n",
              "    .dataframe tbody tr th:only-of-type {\n",
              "        vertical-align: middle;\n",
              "    }\n",
              "\n",
              "    .dataframe tbody tr th {\n",
              "        vertical-align: top;\n",
              "    }\n",
              "\n",
              "    .dataframe thead th {\n",
              "        text-align: right;\n",
              "    }\n",
              "</style>\n",
              "<table border=\"1\" class=\"dataframe\">\n",
              "  <thead>\n",
              "    <tr style=\"text-align: right;\">\n",
              "      <th></th>\n",
              "      <th>Close</th>\n",
              "    </tr>\n",
              "  </thead>\n",
              "  <tbody>\n",
              "    <tr>\n",
              "      <th>4</th>\n",
              "      <td>14.252330780029297</td>\n",
              "    </tr>\n",
              "    <tr>\n",
              "      <th>5</th>\n",
              "      <td>14.845804214477539</td>\n",
              "    </tr>\n",
              "    <tr>\n",
              "      <th>6</th>\n",
              "      <td>15.614119529724121</td>\n",
              "    </tr>\n",
              "    <tr>\n",
              "      <th>7</th>\n",
              "      <td>15.894872665405273</td>\n",
              "    </tr>\n",
              "    <tr>\n",
              "      <th>8</th>\n",
              "      <td>15.986787796020508</td>\n",
              "    </tr>\n",
              "    <tr>\n",
              "      <th>...</th>\n",
              "      <td>...</td>\n",
              "    </tr>\n",
              "    <tr>\n",
              "      <th>247</th>\n",
              "      <td>48.80828094482422</td>\n",
              "    </tr>\n",
              "    <tr>\n",
              "      <th>248</th>\n",
              "      <td>49.257076263427734</td>\n",
              "    </tr>\n",
              "    <tr>\n",
              "      <th>249</th>\n",
              "      <td>49.39501953125</td>\n",
              "    </tr>\n",
              "    <tr>\n",
              "      <th>250</th>\n",
              "      <td>49.49997329711914</td>\n",
              "    </tr>\n",
              "    <tr>\n",
              "      <th>251</th>\n",
              "      <td>49.49997329711914</td>\n",
              "    </tr>\n",
              "  </tbody>\n",
              "</table>\n",
              "<p>248 rows × 1 columns</p>\n",
              "</div><br><label><b>dtype:</b> object</label>"
            ]
          },
          "metadata": {},
          "execution_count": 22
        }
      ]
    },
    {
      "cell_type": "markdown",
      "source": [
        "# **Step 3: Check for Missing Values**"
      ],
      "metadata": {
        "id": "2uCg8uoOSYiD"
      }
    },
    {
      "cell_type": "code",
      "source": [
        "ts.isnull().sum()"
      ],
      "metadata": {
        "colab": {
          "base_uri": "https://localhost:8080/"
        },
        "id": "gDoK-NVwcYZH",
        "outputId": "995b0274-b433-49ee-81bd-443ca01f7eea"
      },
      "execution_count": 23,
      "outputs": [
        {
          "output_type": "execute_result",
          "data": {
            "text/plain": [
              "np.int64(0)"
            ]
          },
          "metadata": {},
          "execution_count": 23
        }
      ]
    },
    {
      "cell_type": "code",
      "source": [
        "# Although zero null, but if there would be any null, we will fill it with forward fill.\n",
        "ts = ts.ffill()"
      ],
      "metadata": {
        "id": "imYJfcuvcdcA"
      },
      "execution_count": 28,
      "outputs": []
    },
    {
      "cell_type": "markdown",
      "source": [
        "# **Step 4: Visualize the Time Series**"
      ],
      "metadata": {
        "id": "puVt4uqaclNC"
      }
    },
    {
      "cell_type": "code",
      "source": [
        "import matplotlib.pyplot as plt\n",
        "import pandas as pd\n",
        "\n",
        "# # Method 1: Basic plot with proper dates\n",
        "# plt.figure(figsize=(12, 6))\n",
        "# plt.plot(data.index, data['Close'], linewidth=2, color='blue')\n",
        "# plt.title('NVDA Close Price', fontsize=16)\n",
        "# plt.xlabel('Date')\n",
        "# plt.ylabel('Close Price ($)')\n",
        "# plt.grid(True)\n",
        "# plt.xticks(rotation=45)\n",
        "# plt.tight_layout()\n",
        "# plt.show()\n",
        "\n",
        "# # Method 2: If dates mein problem hai, to simple index use karo\n",
        "# plt.figure(figsize=(12, 6))\n",
        "# plt.plot(data['Close'], linewidth=2, color='red')\n",
        "# plt.title('NVDA Close Price', fontsize=16)\n",
        "# plt.xlabel('Trading Days')\n",
        "# plt.ylabel('Close Price ($)')\n",
        "# plt.grid(True)\n",
        "# plt.show()\n",
        "\n",
        "# Method 3: Agar data mein string values hain to convert karo\n",
        "try:\n",
        "    close_prices = pd.to_numeric(data['Close'], errors='coerce')\n",
        "    plt.figure(figsize=(12, 6))\n",
        "    plt.plot(close_prices, linewidth=2, color='green')\n",
        "    plt.title('NVDA Close Price (Cleaned)', fontsize=16)\n",
        "    plt.xlabel('Trading Days')\n",
        "    plt.ylabel('Close Price ($)')\n",
        "    plt.grid(True)\n",
        "    plt.show()\n",
        "except:\n",
        "    print(\"Data conversion mein problem hai\")\n",
        "\n",
        "# Simple stats\n",
        "print(f\"Total data points: {len(data)}\")\n",
        "print(f\"Close price range: {data['Close'].min()} to {data['Close'].max()}\")"
      ],
      "metadata": {
        "colab": {
          "base_uri": "https://localhost:8080/",
          "height": 601
        },
        "id": "7D-dKx40cmm1",
        "outputId": "81cb9b70-e6b3-4828-e3b7-42bca5c7c1c3"
      },
      "execution_count": 31,
      "outputs": [
        {
          "output_type": "display_data",
          "data": {
            "text/plain": [
              "<Figure size 1200x600 with 1 Axes>"
            ],
            "image/png": "[encoded data removed]"
          },
          "metadata": {}
        },
        {
          "output_type": "stream",
          "name": "stdout",
          "text": [
            "Total data points: 248\n",
            "Close price range: 14.252330780029297 to 50.38214874267578\n"
          ]
        }
      ]
    },
    {
      "cell_type": "markdown",
      "source": [
        "# **Step 5: Check Stationarity (ADF Test)**\n",
        "\n",
        "Stationary data hona zaroori hai (mean & variance constant)."
      ],
      "metadata": {
        "id": "UppNIqT7g0lb"
      }
    },
    {
      "cell_type": "code",
      "source": [
        "from statsmodels.tsa.stattools import adfuller\n",
        "\n",
        "result = adfuller(ts)\n",
        "print('ADF Statistic:', result[0])\n",
        "print('p-value:', result[1])\n"
      ],
      "metadata": {
        "colab": {
          "base_uri": "https://localhost:8080/"
        },
        "id": "d5xMcPr7g2y8",
        "outputId": "ea549621-837a-4983-cbd5-497b37780cc4"
      },
      "execution_count": 32,
      "outputs": [
        {
          "output_type": "stream",
          "name": "stdout",
          "text": [
            "ADF Statistic: -1.773920974909671\n",
            "p-value: 0.3934838923568217\n"
          ]
        }
      ]
    },
    {
      "cell_type": "markdown",
      "source": [
        "p-value < 0.05 → stationary\n",
        "\n",
        "p-value > 0.05 → not stationary (toh difference lena padega)."
      ],
      "metadata": {
        "id": "QrAfqc2-g8oN"
      }
    },
    {
      "cell_type": "markdown",
      "source": [
        "# **Step 6: Model Selection**\n",
        "\n",
        "2 common models for stock data:\n",
        "\n",
        "ARIMA / SARIMA (short-term forecasting, statistical)\n",
        "\n",
        "Prophet (Facebook) (trend + seasonality capture, easy to use)\n",
        "\n",
        "Example ARIMA:"
      ],
      "metadata": {
        "id": "VkvTqtP1g0nv"
      }
    },
    {
      "cell_type": "code",
      "source": [
        "from statsmodels.tsa.arima.model import ARIMA\n",
        "\n",
        "model = ARIMA(ts, order=(5,1,0))  # (p,d,q)\n",
        "model_fit = model.fit()\n",
        "print(model_fit.summary())\n",
        "\n",
        "forecast = model_fit.forecast(steps=30)\n"
      ],
      "metadata": {
        "colab": {
          "base_uri": "https://localhost:8080/",
          "height": 356
        },
        "id": "_L_oxS5bhDYk",
        "outputId": "16a7bc93-861c-49c3-a589-1b2a1b1e8da6"
      },
      "execution_count": 36,
      "outputs": [
        {
          "output_type": "error",
          "ename": "ValueError",
          "evalue": "Pandas data cast to numpy dtype of object. Check input data with np.asarray(data).",
          "traceback": [
            "\u001b[0;31m---------------------------------------------------------------------------\u001b[0m",
            "\u001b[0;31mValueError\u001b[0m                                Traceback (most recent call last)",
            "\u001b[0;32m/tmp/ipython-input-3131462424.py\u001b[0m in \u001b[0;36m<cell line: 0>\u001b[0;34m()\u001b[0m\n\u001b[1;32m      1\u001b[0m \u001b[0;32mfrom\u001b[0m \u001b[0mstatsmodels\u001b[0m\u001b[0;34m.\u001b[0m\u001b[0mtsa\u001b[0m\u001b[0;34m.\u001b[0m\u001b[0marima\u001b[0m\u001b[0;34m.\u001b[0m\u001b[0mmodel\u001b[0m \u001b[0;32mimport\u001b[0m \u001b[0mARIMA\u001b[0m\u001b[0;34m\u001b[0m\u001b[0;34m\u001b[0m\u001b[0m\n\u001b[1;32m      2\u001b[0m \u001b[0;34m\u001b[0m\u001b[0m\n\u001b[0;32m----> 3\u001b[0;31m \u001b[0mmodel\u001b[0m \u001b[0;34m=\u001b[0m \u001b[0mARIMA\u001b[0m\u001b[0;34m(\u001b[0m\u001b[0mts\u001b[0m\u001b[0;34m,\u001b[0m \u001b[0morder\u001b[0m\u001b[0;34m=\u001b[0m\u001b[0;34m(\u001b[0m\u001b[0;36m5\u001b[0m\u001b[0;34m,\u001b[0m\u001b[0;36m1\u001b[0m\u001b[0;34m,\u001b[0m\u001b[0;36m0\u001b[0m\u001b[0;34m)\u001b[0m\u001b[0;34m)\u001b[0m  \u001b[0;31m# (p,d,q)\u001b[0m\u001b[0;34m\u001b[0m\u001b[0;34m\u001b[0m\u001b[0m\n\u001b[0m\u001b[1;32m      4\u001b[0m \u001b[0mmodel_fit\u001b[0m \u001b[0;34m=\u001b[0m \u001b[0mmodel\u001b[0m\u001b[0;34m.\u001b[0m\u001b[0mfit\u001b[0m\u001b[0;34m(\u001b[0m\u001b[0;34m)\u001b[0m\u001b[0;34m\u001b[0m\u001b[0;34m\u001b[0m\u001b[0m\n\u001b[1;32m      5\u001b[0m \u001b[0mprint\u001b[0m\u001b[0;34m(\u001b[0m\u001b[0mmodel_fit\u001b[0m\u001b[0;34m.\u001b[0m\u001b[0msummary\u001b[0m\u001b[0;34m(\u001b[0m\u001b[0;34m)\u001b[0m\u001b[0;34m)\u001b[0m\u001b[0;34m\u001b[0m\u001b[0;34m\u001b[0m\u001b[0m\n",
            "\u001b[0;32m/usr/local/lib/python3.12/dist-packages/statsmodels/tsa/arima/model.py\u001b[0m in \u001b[0;36m__init__\u001b[0;34m(self, endog, exog, order, seasonal_order, trend, enforce_stationarity, enforce_invertibility, concentrate_scale, trend_offset, dates, freq, missing, validate_specification)\u001b[0m\n\u001b[1;32m    156\u001b[0m         \u001b[0;31m# this criteria. Instead, we'll just make sure that the parameter\u001b[0m\u001b[0;34m\u001b[0m\u001b[0;34m\u001b[0m\u001b[0m\n\u001b[1;32m    157\u001b[0m         \u001b[0;31m# estimates from those methods satisfy the criteria.)\u001b[0m\u001b[0;34m\u001b[0m\u001b[0;34m\u001b[0m\u001b[0m\n\u001b[0;32m--> 158\u001b[0;31m         self._spec_arima = SARIMAXSpecification(\n\u001b[0m\u001b[1;32m    159\u001b[0m             \u001b[0mendog\u001b[0m\u001b[0;34m,\u001b[0m \u001b[0mexog\u001b[0m\u001b[0;34m=\u001b[0m\u001b[0mexog\u001b[0m\u001b[0;34m,\u001b[0m \u001b[0morder\u001b[0m\u001b[0;34m=\u001b[0m\u001b[0morder\u001b[0m\u001b[0;34m,\u001b[0m \u001b[0mseasonal_order\u001b[0m\u001b[0;34m=\u001b[0m\u001b[0mseasonal_order\u001b[0m\u001b[0;34m,\u001b[0m\u001b[0;34m\u001b[0m\u001b[0;34m\u001b[0m\u001b[0m\n\u001b[1;32m    160\u001b[0m             \u001b[0mtrend\u001b[0m\u001b[0;34m=\u001b[0m\u001b[0mtrend\u001b[0m\u001b[0;34m,\u001b[0m \u001b[0menforce_stationarity\u001b[0m\u001b[0;34m=\u001b[0m\u001b[0;32mNone\u001b[0m\u001b[0;34m,\u001b[0m \u001b[0menforce_invertibility\u001b[0m\u001b[0;34m=\u001b[0m\u001b[0;32mNone\u001b[0m\u001b[0;34m,\u001b[0m\u001b[0;34m\u001b[0m\u001b[0;34m\u001b[0m\u001b[0m\n",
            "\u001b[0;32m/usr/local/lib/python3.12/dist-packages/statsmodels/tsa/arima/specification.py\u001b[0m in \u001b[0;36m__init__\u001b[0;34m(self, endog, exog, order, seasonal_order, ar_order, diff, ma_order, seasonal_ar_order, seasonal_diff, seasonal_ma_order, seasonal_periods, trend, enforce_stationarity, enforce_invertibility, concentrate_scale, trend_offset, dates, freq, missing, validate_specification)\u001b[0m\n\u001b[1;32m    444\u001b[0m         \u001b[0;31m# especially validating shapes, retrieving names, and potentially\u001b[0m\u001b[0;34m\u001b[0m\u001b[0;34m\u001b[0m\u001b[0m\n\u001b[1;32m    445\u001b[0m         \u001b[0;31m# providing us with a time series index\u001b[0m\u001b[0;34m\u001b[0m\u001b[0;34m\u001b[0m\u001b[0m\n\u001b[0;32m--> 446\u001b[0;31m         self._model = TimeSeriesModel(endog, exog=exog, dates=dates, freq=freq,\n\u001b[0m\u001b[1;32m    447\u001b[0m                                       missing=missing)\n\u001b[1;32m    448\u001b[0m         \u001b[0mself\u001b[0m\u001b[0;34m.\u001b[0m\u001b[0mendog\u001b[0m \u001b[0;34m=\u001b[0m \u001b[0;32mNone\u001b[0m \u001b[0;32mif\u001b[0m \u001b[0mfaux_endog\u001b[0m \u001b[0;32melse\u001b[0m \u001b[0mself\u001b[0m\u001b[0;34m.\u001b[0m\u001b[0m_model\u001b[0m\u001b[0;34m.\u001b[0m\u001b[0mendog\u001b[0m\u001b[0;34m\u001b[0m\u001b[0;34m\u001b[0m\u001b[0m\n",
            "\u001b[0;32m/usr/local/lib/python3.12/dist-packages/statsmodels/tsa/base/tsa_model.py\u001b[0m in \u001b[0;36m__init__\u001b[0;34m(self, endog, exog, dates, freq, missing, **kwargs)\u001b[0m\n\u001b[1;32m    468\u001b[0m         \u001b[0mself\u001b[0m\u001b[0;34m,\u001b[0m \u001b[0mendog\u001b[0m\u001b[0;34m,\u001b[0m \u001b[0mexog\u001b[0m\u001b[0;34m=\u001b[0m\u001b[0;32mNone\u001b[0m\u001b[0;34m,\u001b[0m \u001b[0mdates\u001b[0m\u001b[0;34m=\u001b[0m\u001b[0;32mNone\u001b[0m\u001b[0;34m,\u001b[0m \u001b[0mfreq\u001b[0m\u001b[0;34m=\u001b[0m\u001b[0;32mNone\u001b[0m\u001b[0;34m,\u001b[0m \u001b[0mmissing\u001b[0m\u001b[0;34m=\u001b[0m\u001b[0;34m\"none\"\u001b[0m\u001b[0;34m,\u001b[0m \u001b[0;34m**\u001b[0m\u001b[0mkwargs\u001b[0m\u001b[0;34m\u001b[0m\u001b[0;34m\u001b[0m\u001b[0m\n\u001b[1;32m    469\u001b[0m     ):\n\u001b[0;32m--> 470\u001b[0;31m         \u001b[0msuper\u001b[0m\u001b[0;34m(\u001b[0m\u001b[0;34m)\u001b[0m\u001b[0;34m.\u001b[0m\u001b[0m__init__\u001b[0m\u001b[0;34m(\u001b[0m\u001b[0mendog\u001b[0m\u001b[0;34m,\u001b[0m \u001b[0mexog\u001b[0m\u001b[0;34m,\u001b[0m \u001b[0mmissing\u001b[0m\u001b[0;34m=\u001b[0m\u001b[0mmissing\u001b[0m\u001b[0;34m,\u001b[0m \u001b[0;34m**\u001b[0m\u001b[0mkwargs\u001b[0m\u001b[0;34m)\u001b[0m\u001b[0;34m\u001b[0m\u001b[0;34m\u001b[0m\u001b[0m\n\u001b[0m\u001b[1;32m    471\u001b[0m \u001b[0;34m\u001b[0m\u001b[0m\n\u001b[1;32m    472\u001b[0m         \u001b[0;31m# Date handling in indexes\u001b[0m\u001b[0;34m\u001b[0m\u001b[0;34m\u001b[0m\u001b[0m\n",
            "\u001b[0;32m/usr/local/lib/python3.12/dist-packages/statsmodels/base/model.py\u001b[0m in \u001b[0;36m__init__\u001b[0;34m(self, endog, exog, **kwargs)\u001b[0m\n\u001b[1;32m    268\u001b[0m \u001b[0;34m\u001b[0m\u001b[0m\n\u001b[1;32m    269\u001b[0m     \u001b[0;32mdef\u001b[0m \u001b[0m__init__\u001b[0m\u001b[0;34m(\u001b[0m\u001b[0mself\u001b[0m\u001b[0;34m,\u001b[0m \u001b[0mendog\u001b[0m\u001b[0;34m,\u001b[0m \u001b[0mexog\u001b[0m\u001b[0;34m=\u001b[0m\u001b[0;32mNone\u001b[0m\u001b[0;34m,\u001b[0m \u001b[0;34m**\u001b[0m\u001b[0mkwargs\u001b[0m\u001b[0;34m)\u001b[0m\u001b[0;34m:\u001b[0m\u001b[0;34m\u001b[0m\u001b[0;34m\u001b[0m\u001b[0m\n\u001b[0;32m--> 270\u001b[0;31m         \u001b[0msuper\u001b[0m\u001b[0;34m(\u001b[0m\u001b[0;34m)\u001b[0m\u001b[0;34m.\u001b[0m\u001b[0m__init__\u001b[0m\u001b[0;34m(\u001b[0m\u001b[0mendog\u001b[0m\u001b[0;34m,\u001b[0m \u001b[0mexog\u001b[0m\u001b[0;34m,\u001b[0m \u001b[0;34m**\u001b[0m\u001b[0mkwargs\u001b[0m\u001b[0;34m)\u001b[0m\u001b[0;34m\u001b[0m\u001b[0;34m\u001b[0m\u001b[0m\n\u001b[0m\u001b[1;32m    271\u001b[0m         \u001b[0mself\u001b[0m\u001b[0;34m.\u001b[0m\u001b[0minitialize\u001b[0m\u001b[0;34m(\u001b[0m\u001b[0;34m)\u001b[0m\u001b[0;34m\u001b[0m\u001b[0;34m\u001b[0m\u001b[0m\n\u001b[1;32m    272\u001b[0m \u001b[0;34m\u001b[0m\u001b[0m\n",
            "\u001b[0;32m/usr/local/lib/python3.12/dist-packages/statsmodels/base/model.py\u001b[0m in \u001b[0;36m__init__\u001b[0;34m(self, endog, exog, **kwargs)\u001b[0m\n\u001b[1;32m     93\u001b[0m         \u001b[0mmissing\u001b[0m \u001b[0;34m=\u001b[0m \u001b[0mkwargs\u001b[0m\u001b[0;34m.\u001b[0m\u001b[0mpop\u001b[0m\u001b[0;34m(\u001b[0m\u001b[0;34m'missing'\u001b[0m\u001b[0;34m,\u001b[0m \u001b[0;34m'none'\u001b[0m\u001b[0;34m)\u001b[0m\u001b[0;34m\u001b[0m\u001b[0;34m\u001b[0m\u001b[0m\n\u001b[1;32m     94\u001b[0m         \u001b[0mhasconst\u001b[0m \u001b[0;34m=\u001b[0m \u001b[0mkwargs\u001b[0m\u001b[0;34m.\u001b[0m\u001b[0mpop\u001b[0m\u001b[0;34m(\u001b[0m\u001b[0;34m'hasconst'\u001b[0m\u001b[0;34m,\u001b[0m \u001b[0;32mNone\u001b[0m\u001b[0;34m)\u001b[0m\u001b[0;34m\u001b[0m\u001b[0;34m\u001b[0m\u001b[0m\n\u001b[0;32m---> 95\u001b[0;31m         self.data = self._handle_data(endog, exog, missing, hasconst,\n\u001b[0m\u001b[1;32m     96\u001b[0m                                       **kwargs)\n\u001b[1;32m     97\u001b[0m         \u001b[0mself\u001b[0m\u001b[0;34m.\u001b[0m\u001b[0mk_constant\u001b[0m \u001b[0;34m=\u001b[0m \u001b[0mself\u001b[0m\u001b[0;34m.\u001b[0m\u001b[0mdata\u001b[0m\u001b[0;34m.\u001b[0m\u001b[0mk_constant\u001b[0m\u001b[0;34m\u001b[0m\u001b[0;34m\u001b[0m\u001b[0m\n",
            "\u001b[0;32m/usr/local/lib/python3.12/dist-packages/statsmodels/base/model.py\u001b[0m in \u001b[0;36m_handle_data\u001b[0;34m(self, endog, exog, missing, hasconst, **kwargs)\u001b[0m\n\u001b[1;32m    133\u001b[0m \u001b[0;34m\u001b[0m\u001b[0m\n\u001b[1;32m    134\u001b[0m     \u001b[0;32mdef\u001b[0m \u001b[0m_handle_data\u001b[0m\u001b[0;34m(\u001b[0m\u001b[0mself\u001b[0m\u001b[0;34m,\u001b[0m \u001b[0mendog\u001b[0m\u001b[0;34m,\u001b[0m \u001b[0mexog\u001b[0m\u001b[0;34m,\u001b[0m \u001b[0mmissing\u001b[0m\u001b[0;34m,\u001b[0m \u001b[0mhasconst\u001b[0m\u001b[0;34m,\u001b[0m \u001b[0;34m**\u001b[0m\u001b[0mkwargs\u001b[0m\u001b[0;34m)\u001b[0m\u001b[0;34m:\u001b[0m\u001b[0;34m\u001b[0m\u001b[0;34m\u001b[0m\u001b[0m\n\u001b[0;32m--> 135\u001b[0;31m         \u001b[0mdata\u001b[0m \u001b[0;34m=\u001b[0m \u001b[0mhandle_data\u001b[0m\u001b[0;34m(\u001b[0m\u001b[0mendog\u001b[0m\u001b[0;34m,\u001b[0m \u001b[0mexog\u001b[0m\u001b[0;34m,\u001b[0m \u001b[0mmissing\u001b[0m\u001b[0;34m,\u001b[0m \u001b[0mhasconst\u001b[0m\u001b[0;34m,\u001b[0m \u001b[0;34m**\u001b[0m\u001b[0mkwargs\u001b[0m\u001b[0;34m)\u001b[0m\u001b[0;34m\u001b[0m\u001b[0;34m\u001b[0m\u001b[0m\n\u001b[0m\u001b[1;32m    136\u001b[0m         \u001b[0;31m# kwargs arrays could have changed, easier to just attach here\u001b[0m\u001b[0;34m\u001b[0m\u001b[0;34m\u001b[0m\u001b[0m\n\u001b[1;32m    137\u001b[0m         \u001b[0;32mfor\u001b[0m \u001b[0mkey\u001b[0m \u001b[0;32min\u001b[0m \u001b[0mkwargs\u001b[0m\u001b[0;34m:\u001b[0m\u001b[0;34m\u001b[0m\u001b[0;34m\u001b[0m\u001b[0m\n",
            "\u001b[0;32m/usr/local/lib/python3.12/dist-packages/statsmodels/base/data.py\u001b[0m in \u001b[0;36mhandle_data\u001b[0;34m(endog, exog, missing, hasconst, **kwargs)\u001b[0m\n\u001b[1;32m    673\u001b[0m \u001b[0;34m\u001b[0m\u001b[0m\n\u001b[1;32m    674\u001b[0m     \u001b[0mklass\u001b[0m \u001b[0;34m=\u001b[0m \u001b[0mhandle_data_class_factory\u001b[0m\u001b[0;34m(\u001b[0m\u001b[0mendog\u001b[0m\u001b[0;34m,\u001b[0m \u001b[0mexog\u001b[0m\u001b[0;34m)\u001b[0m\u001b[0;34m\u001b[0m\u001b[0;34m\u001b[0m\u001b[0m\n\u001b[0;32m--> 675\u001b[0;31m     return klass(endog, exog=exog, missing=missing, hasconst=hasconst,\n\u001b[0m\u001b[1;32m    676\u001b[0m                  **kwargs)\n",
            "\u001b[0;32m/usr/local/lib/python3.12/dist-packages/statsmodels/base/data.py\u001b[0m in \u001b[0;36m__init__\u001b[0;34m(self, endog, exog, missing, hasconst, **kwargs)\u001b[0m\n\u001b[1;32m     82\u001b[0m             \u001b[0mself\u001b[0m\u001b[0;34m.\u001b[0m\u001b[0morig_endog\u001b[0m \u001b[0;34m=\u001b[0m \u001b[0mendog\u001b[0m\u001b[0;34m\u001b[0m\u001b[0;34m\u001b[0m\u001b[0m\n\u001b[1;32m     83\u001b[0m             \u001b[0mself\u001b[0m\u001b[0;34m.\u001b[0m\u001b[0morig_exog\u001b[0m \u001b[0;34m=\u001b[0m \u001b[0mexog\u001b[0m\u001b[0;34m\u001b[0m\u001b[0;34m\u001b[0m\u001b[0m\n\u001b[0;32m---> 84\u001b[0;31m             \u001b[0mself\u001b[0m\u001b[0;34m.\u001b[0m\u001b[0mendog\u001b[0m\u001b[0;34m,\u001b[0m \u001b[0mself\u001b[0m\u001b[0;34m.\u001b[0m\u001b[0mexog\u001b[0m \u001b[0;34m=\u001b[0m \u001b[0mself\u001b[0m\u001b[0;34m.\u001b[0m\u001b[0m_convert_endog_exog\u001b[0m\u001b[0;34m(\u001b[0m\u001b[0mendog\u001b[0m\u001b[0;34m,\u001b[0m \u001b[0mexog\u001b[0m\u001b[0;34m)\u001b[0m\u001b[0;34m\u001b[0m\u001b[0;34m\u001b[0m\u001b[0m\n\u001b[0m\u001b[1;32m     85\u001b[0m \u001b[0;34m\u001b[0m\u001b[0m\n\u001b[1;32m     86\u001b[0m         \u001b[0mself\u001b[0m\u001b[0;34m.\u001b[0m\u001b[0mconst_idx\u001b[0m \u001b[0;34m=\u001b[0m \u001b[0;32mNone\u001b[0m\u001b[0;34m\u001b[0m\u001b[0;34m\u001b[0m\u001b[0m\n",
            "\u001b[0;32m/usr/local/lib/python3.12/dist-packages/statsmodels/base/data.py\u001b[0m in \u001b[0;36m_convert_endog_exog\u001b[0;34m(self, endog, exog)\u001b[0m\n\u001b[1;32m    507\u001b[0m         \u001b[0mexog\u001b[0m \u001b[0;34m=\u001b[0m \u001b[0mexog\u001b[0m \u001b[0;32mif\u001b[0m \u001b[0mexog\u001b[0m \u001b[0;32mis\u001b[0m \u001b[0;32mNone\u001b[0m \u001b[0;32melse\u001b[0m \u001b[0mnp\u001b[0m\u001b[0;34m.\u001b[0m\u001b[0masarray\u001b[0m\u001b[0;34m(\u001b[0m\u001b[0mexog\u001b[0m\u001b[0;34m)\u001b[0m\u001b[0;34m\u001b[0m\u001b[0;34m\u001b[0m\u001b[0m\n\u001b[1;32m    508\u001b[0m         \u001b[0;32mif\u001b[0m \u001b[0mendog\u001b[0m\u001b[0;34m.\u001b[0m\u001b[0mdtype\u001b[0m \u001b[0;34m==\u001b[0m \u001b[0mobject\u001b[0m \u001b[0;32mor\u001b[0m \u001b[0mexog\u001b[0m \u001b[0;32mis\u001b[0m \u001b[0;32mnot\u001b[0m \u001b[0;32mNone\u001b[0m \u001b[0;32mand\u001b[0m \u001b[0mexog\u001b[0m\u001b[0;34m.\u001b[0m\u001b[0mdtype\u001b[0m \u001b[0;34m==\u001b[0m \u001b[0mobject\u001b[0m\u001b[0;34m:\u001b[0m\u001b[0;34m\u001b[0m\u001b[0;34m\u001b[0m\u001b[0m\n\u001b[0;32m--> 509\u001b[0;31m             raise ValueError(\"Pandas data cast to numpy dtype of object. \"\n\u001b[0m\u001b[1;32m    510\u001b[0m                              \"Check input data with np.asarray(data).\")\n\u001b[1;32m    511\u001b[0m         \u001b[0;32mreturn\u001b[0m \u001b[0msuper\u001b[0m\u001b[0;34m(\u001b[0m\u001b[0;34m)\u001b[0m\u001b[0;34m.\u001b[0m\u001b[0m_convert_endog_exog\u001b[0m\u001b[0;34m(\u001b[0m\u001b[0mendog\u001b[0m\u001b[0;34m,\u001b[0m \u001b[0mexog\u001b[0m\u001b[0;34m)\u001b[0m\u001b[0;34m\u001b[0m\u001b[0;34m\u001b[0m\u001b[0m\n",
            "\u001b[0;31mValueError\u001b[0m: Pandas data cast to numpy dtype of object. Check input data with np.asarray(data)."
          ]
        }
      ]
    },
    {
      "cell_type": "code",
      "source": [
        "ts = pd.to_numeric(ts, errors=\"coerce\")   # convert to float\n",
        "ts = ts.ffill()   # fill missing values if any"
      ],
      "metadata": {
        "id": "jDZcSNoHhdnz"
      },
      "execution_count": 37,
      "outputs": []
    },
    {
      "cell_type": "code",
      "source": [
        "# Split data into train and test\n",
        "train = ts[:-30]   # sab data except last 30\n",
        "test = ts[-30:]    # last 30 days as actual test data\n",
        "\n",
        "from statsmodels.tsa.arima.model import ARIMA\n",
        "\n",
        "model = ARIMA(train, order=(5,1,0))  # (p,d,q)\n",
        "model_fit = model.fit()\n",
        "print(model_fit.summary())\n",
        "\n",
        "pred = model_fit.forecast(steps=len(test)) # Maan lo 30 days aage ka data forecast karna hai, # Ye tumhe ek Series dega future predicted values ka.\n"
      ],
      "metadata": {
        "colab": {
          "base_uri": "https://localhost:8080/"
        },
        "id": "4nM2jAdfhfPA",
        "outputId": "1c5f72cb-6c54-4927-997c-14a8988a0272"
      },
      "execution_count": 43,
      "outputs": [
        {
          "output_type": "stream",
          "name": "stdout",
          "text": [
            "                               SARIMAX Results                                \n",
            "==============================================================================\n",
            "Dep. Variable:                  Close   No. Observations:                  218\n",
            "Model:                 ARIMA(5, 1, 0)   Log Likelihood                -317.427\n",
            "Date:                Wed, 03 Sep 2025   AIC                            646.853\n",
            "Time:                        12:26:49   BIC                            667.133\n",
            "Sample:                             0   HQIC                           655.045\n",
            "                                - 218                                         \n",
            "Covariance Type:                  opg                                         \n",
            "==============================================================================\n",
            "                 coef    std err          z      P>|z|      [0.025      0.975]\n",
            "------------------------------------------------------------------------------\n",
            "ar.L1          0.0502      0.078      0.644      0.520      -0.103       0.203\n",
            "ar.L2          0.0060      0.075      0.080      0.936      -0.141       0.153\n",
            "ar.L3         -0.0705      0.064     -1.105      0.269      -0.196       0.055\n",
            "ar.L4          0.0161      0.058      0.280      0.780      -0.097       0.129\n",
            "ar.L5          0.0956      0.063      1.522      0.128      -0.028       0.219\n",
            "sigma2         1.0913      0.051     21.254      0.000       0.991       1.192\n",
            "===================================================================================\n",
            "Ljung-Box (L1) (Q):                   0.06   Jarque-Bera (JB):               958.25\n",
            "Prob(Q):                              0.81   Prob(JB):                         0.00\n",
            "Heteroskedasticity (H):               2.56   Skew:                             1.57\n",
            "Prob(H) (two-sided):                  0.00   Kurtosis:                        12.80\n",
            "===================================================================================\n",
            "\n",
            "Warnings:\n",
            "[1] Covariance matrix calculated using the outer product of gradients (complex-step).\n"
          ]
        }
      ]
    },
    {
      "cell_type": "markdown",
      "source": [
        "ARIMA(ts, order=(p, d, q))\n",
        "yani p, d, q teen parameters hote hain jo model define karte hain.\n",
        "\n",
        "## **1. p (Auto-Regressive part)**\n",
        "\n",
        "Kitne past values (lags) use karne hain predict karne ke liye.\n",
        "\n",
        "Example: agar p=3 hai → model last 3 days ke prices use karke aaj ka price predict karega.\n",
        "\n",
        "Soch lo tum keh rahi ho:\n",
        "“aaj ka stock price past 3 din ke prices pe depend karta hai.”\n",
        "\n",
        "## **2. d (Differencing part)**\n",
        "\n",
        "Kitni baar data ko difference karna hai taaki wo stationary ban jaye.\n",
        "\n",
        "Agar data me trend hai → ek baar difference lelo (d=1).\n",
        "\n",
        "Agar bahut strong trend hai → d=2 bhi karna pad sakta hai.\n",
        "\n",
        "Soch lo tum keh rahi ho:\n",
        "“Trend ko remove kar do, bas changes pe focus karo.”\n",
        "\n",
        "## **3. q (Moving Average part)**\n",
        "\n",
        "Kitne past forecast errors (residuals) use karne hain predict karne ke liye.\n",
        "\n",
        "Example: agar q=2 hai → model last 2 days ke errors (kitna galat predict kiya) use karega.\n",
        "\n",
        "Soch lo tum keh rahi ho:\n",
        "“Aaj ka prediction kal ke galtiyon se seekh ke banega.”"
      ],
      "metadata": {
        "id": "YuPsNsYFg0p1"
      }
    },
    {
      "cell_type": "markdown",
      "source": [
        "# **Step 8: Evaluate Model**\n",
        "\n",
        "Use MAPE or RMSE between actual & predicted."
      ],
      "metadata": {
        "id": "Uk-0b70xg0rn"
      }
    },
    {
      "cell_type": "code",
      "source": [
        "import numpy as np\n",
        "\n",
        "def mape(y_true, y_pred):\n",
        "    return np.mean(np.abs((y_true - y_pred) / y_true)) * 100\n"
      ],
      "metadata": {
        "id": "FxfjVcniiGDv"
      },
      "execution_count": 44,
      "outputs": []
    },
    {
      "cell_type": "code",
      "source": [
        "# Calculate MAPE\n",
        "error = mape(test, pred)\n",
        "print(\"MAPE:\", error)\n"
      ],
      "metadata": {
        "colab": {
          "base_uri": "https://localhost:8080/"
        },
        "id": "lhHUUzd6ila0",
        "outputId": "f1e45580-bee1-4327-96c9-73ecfb25c6dd"
      },
      "execution_count": 45,
      "outputs": [
        {
          "output_type": "stream",
          "name": "stdout",
          "text": [
            "MAPE: 2.5465782733807103\n"
          ]
        }
      ]
    },
    {
      "cell_type": "markdown",
      "source": [
        "✅ MAPE ka matlab\n",
        "\n",
        "Tumhari model ki average error ≈ 2.55% hai.\n",
        "\n",
        "Matlab jo prediction kiya uska difference actual values se sirf ~2.5% hai → excellent accuracy."
      ],
      "metadata": {
        "id": "vuMrV9yli76d"
      }
    },
    {
      "cell_type": "markdown",
      "source": [
        "# **Residual Analysis:**"
      ],
      "metadata": {
        "id": "H76eVwuci_X3"
      }
    },
    {
      "cell_type": "code",
      "source": [
        "residuals = test - pred\n",
        "residuals.plot(title=\"Residuals\")\n"
      ],
      "metadata": {
        "colab": {
          "base_uri": "https://localhost:8080/",
          "height": 469
        },
        "id": "5YUc8HQmjCB2",
        "outputId": "2190dd38-6379-4261-ac7e-a640e17c8524"
      },
      "execution_count": 46,
      "outputs": [
        {
          "output_type": "execute_result",
          "data": {
            "text/plain": [
              "<Axes: title={'center': 'Residuals'}>"
            ]
          },
          "metadata": {},
          "execution_count": 46
        },
        {
          "output_type": "display_data",
          "data": {
            "text/plain": [
              "<Figure size 640x480 with 1 Axes>"
            ],
            "image/png": "[encoded data removed]"
          },
          "metadata": {}
        }
      ]
    },
    {
      "cell_type": "markdown",
      "source": [
        "# **Step 9: Plot Actual vs Forecast**"
      ],
      "metadata": {
        "id": "4tveZXHIg0uT"
      }
    },
    {
      "cell_type": "code",
      "source": [
        "import matplotlib.pyplot as plt\n",
        "\n",
        "plt.figure(figsize=(12,5))\n",
        "\n",
        "# Actual data\n",
        "plt.plot(ts, label=\"Actual\")\n",
        "\n",
        "# Forecasted data\n",
        "plt.plot(forecast.index, forecast, label=\"Forecast\", color=\"red\")\n",
        "\n",
        "plt.title(\"NVDA Stock Price Forecast\")\n",
        "plt.xlabel(\"Date\")\n",
        "plt.ylabel(\"Price\")\n",
        "plt.legend()\n",
        "plt.show()\n"
      ],
      "metadata": {
        "colab": {
          "base_uri": "https://localhost:8080/",
          "height": 487
        },
        "id": "T0Xl8jn0iXhy",
        "outputId": "b64cf0cc-1b4b-4408-8cc3-2ecc5e3240e9"
      },
      "execution_count": 40,
      "outputs": [
        {
          "output_type": "display_data",
          "data": {
            "text/plain": [
              "<Figure size 1200x500 with 1 Axes>"
            ],
            "image/png": "[encoded data removed]"
          },
          "metadata": {}
        }
      ]
    },
    {
      "cell_type": "markdown",
      "source": [
        "# **-------------------- Appendices --------------------**\n",
        "\n",
        "## *Q: Why we need to remove trends*\n",
        "\n",
        "Answer:\n",
        "\n",
        "--- What is a trend?\n",
        "\n",
        "A long-term increase or decrease in data.\n",
        "\n",
        "Example: Company sales: 100 → 200 → 300 → 400 (always going up).\n",
        "\n",
        "--- Why trend is a problem?\n",
        "\n",
        "Many statistical models (like AR, MA, ARIMA) assume:\n",
        "\n",
        "  * The data has a constant average (mean).\n",
        "\n",
        "  * The data has a constant spread (variance).\n",
        "\n",
        "If there’s a strong trend:\n",
        "\n",
        "The mean keeps changing (100 today, 200 tomorrow…).\n",
        "\n",
        "Variance may also grow.\n",
        "➡ This violates the model’s assumptions.\n",
        "\n",
        "3. Why remove it?\n",
        "\n",
        "Removing the trend makes the series stationary (stable around a fixed mean).\n",
        "\n",
        "Stationary data is easier for models to learn patterns like seasonality or autocorrelation.\n",
        "\n",
        "Otherwise, the model might confuse “trend” with “real signal.”\n"
      ],
      "metadata": {
        "id": "ugiJPJFHumxZ"
      }
    },
    {
      "cell_type": "markdown",
      "source": [
        "# **More Methods for Time Series Analysis and Forecasting:**\n",
        "\n",
        "## **🔹 Statistical Models**\n",
        "\n",
        "SARIMA (Seasonal ARIMA) → agar data me seasonality (monthly, weekly patterns) ho.\n",
        "\n",
        "SARIMAX (SARIMA with exogenous variables) → agar tum stock ke sath koi aur factor bhi include karna chahti ho (e.g., interest rate, oil price).\n",
        "\n",
        "VAR (Vector Auto Regression) → jab tum ek se zyada time series ek sath predict karna chahti ho (multivariate).\n",
        "\n",
        "## **🔹 Machine Learning Approaches**\n",
        "\n",
        "Random Forest Regressor (scikit-learn) → lag features banao (past 5 days → next day).\n",
        "\n",
        "XGBoost / LightGBM → bohot popular boosting models for time series regression.\n",
        "\n",
        "SVR (Support Vector Regression) → chhote dataset me useful.\n",
        "\n",
        "## **🔹 Deep Learning Approaches**\n",
        "\n",
        "RNN (Recurrent Neural Network) → time series ke liye classical DL.\n",
        "\n",
        "LSTM (Long Short-Term Memory) → sequence memory rakhta hai → stock prices, weather forecasting me bohot use hota hai.\n",
        "\n",
        "GRU (Gated Recurrent Unit) → LSTM ka lighter version.\n",
        "\n",
        "1D CNN (Convolutional Neural Network) → patterns detect karne ke liye.\n",
        "\n",
        "## **🔹 Specialized Forecasting Models**\n",
        "\n",
        "Facebook Prophet → trend + seasonality capture karta hai, easy to use.\n",
        "\n",
        "NeuralProphet (Prophet + Neural Nets ka combination).\n",
        "\n",
        "Theta Model (used in M4 competition, simple but powerful).\n"
      ],
      "metadata": {
        "id": "F1QeygBqjRL8"
      }
    },
    {
      "cell_type": "markdown",
      "source": [
        "tumhare paas 3 levels of choice hain:\n",
        "\n",
        "1. Statistical (ARIMA family) → quick, interpretable.\n",
        "\n",
        "2. ML models → agar tum feature engineering karna chahti ho.\n",
        "\n",
        "3. Deep Learning → agar tumhare paas large dataset hai aur advanced accuracy chahiye."
      ],
      "metadata": {
        "id": "l9kfzeVXjWYO"
      }
    },
    {
      "cell_type": "markdown",
      "source": [
        "# **Applying All methods one by one:**"
      ],
      "metadata": {
        "id": "xaBkViivjWaV"
      }
    },
    {
      "cell_type": "markdown",
      "source": [
        "# **1. SARIMA**\n",
        "\n",
        "Ye ARIMA jaisa hi hai, bas isme ek extra part hota hai seasonality handle karne ke liye. Seasonality are caused by factors like weather, holidays, or calendar-based events. For example, retail sales often spike in December due to the holiday season, and flight prices increase in the summer due to vacations, demonstrating clear seasonal patterns.\n",
        "\n",
        "### **SARIMA(p,d,q)(P,D,Q,s)**\n",
        "\n",
        "(p,d,q) → ARIMA ke parameters (lags, differencing, errors)\n",
        "\n",
        "(P,D,Q,s) → Seasonal part\n",
        "\n",
        "P = seasonal autoregressive lags\n",
        "\n",
        "D = seasonal differencing\n",
        "\n",
        "Q = seasonal moving average\n",
        "\n",
        "s = season length (e.g., 12 for monthly data with yearly seasonality, 7 for daily data with weekly seasonality)\n"
      ],
      "metadata": {
        "id": "luHphwzuj4Hk"
      }
    },
    {
      "cell_type": "code",
      "source": [
        "from statsmodels.tsa.statespace.sarimax import SARIMAX\n",
        "\n",
        "model = SARIMAX(train,\n",
        "                order=(1,1,1),          # (p,d,q)\n",
        "                seasonal_order=(1,1,1,5))  # (P,D,Q,s)\n",
        "model_fit = model.fit(disp=False)\n",
        "print(model_fit.summary())\n",
        "\n",
        "pred = model_fit.forecast(steps=len(test))\n",
        "plt.figure(figsize=(12,5))\n",
        "plt.plot(train, label=\"Train\")\n",
        "plt.plot(test, label=\"Test\", color=\"blue\")\n",
        "plt.plot(pred.index, pred, label=\"SARIMA Forecast\", color=\"red\")\n",
        "plt.legend()\n",
        "plt.show()\n",
        "\n"
      ],
      "metadata": {
        "colab": {
          "base_uri": "https://localhost:8080/",
          "height": 896
        },
        "id": "vtqQthzXkmsO",
        "outputId": "245c96ec-3174-4209-b7a0-2e9dbab3803d"
      },
      "execution_count": 47,
      "outputs": [
        {
          "output_type": "stream",
          "name": "stdout",
          "text": [
            "                                     SARIMAX Results                                     \n",
            "=========================================================================================\n",
            "Dep. Variable:                             Close   No. Observations:                  218\n",
            "Model:             SARIMAX(1, 1, 1)x(1, 1, 1, 5)   Log Likelihood                -318.870\n",
            "Date:                           Wed, 03 Sep 2025   AIC                            647.739\n",
            "Time:                                   12:35:06   BIC                            664.522\n",
            "Sample:                                        0   HQIC                           654.523\n",
            "                                           - 218                                         \n",
            "Covariance Type:                             opg                                         \n",
            "==============================================================================\n",
            "                 coef    std err          z      P>|z|      [0.025      0.975]\n",
            "------------------------------------------------------------------------------\n",
            "ar.L1         -0.0513      2.353     -0.022      0.983      -4.662       4.560\n",
            "ma.L1          0.0854      2.341      0.036      0.971      -4.503       4.673\n",
            "ar.S.L5        0.0911      0.066      1.383      0.167      -0.038       0.220\n",
            "ma.S.L5       -0.9990      1.920     -0.520      0.603      -4.763       2.765\n",
            "sigma2         1.0905      2.082      0.524      0.600      -2.989       5.170\n",
            "===================================================================================\n",
            "Ljung-Box (L1) (Q):                   0.00   Jarque-Bera (JB):               705.08\n",
            "Prob(Q):                              0.98   Prob(JB):                         0.00\n",
            "Heteroskedasticity (H):               2.81   Skew:                             1.40\n",
            "Prob(H) (two-sided):                  0.00   Kurtosis:                        11.49\n",
            "===================================================================================\n",
            "\n",
            "Warnings:\n",
            "[1] Covariance matrix calculated using the outer product of gradients (complex-step).\n"
          ]
        },
        {
          "output_type": "display_data",
          "data": {
            "text/plain": [
              "<Figure size 1200x500 with 1 Axes>"
            ],
            "image/png": "[encoded data removed]"
          },
          "metadata": {}
        }
      ]
    },
    {
      "cell_type": "code",
      "source": [
        "import numpy as np\n",
        "\n",
        "def mape(y_true, y_pred):\n",
        "    return np.mean(np.abs((y_true - y_pred) / y_true)) * 100\n",
        "\n",
        "error = mape(test, pred)\n",
        "print(\"SARIMA MAPE:\", error)\n"
      ],
      "metadata": {
        "colab": {
          "base_uri": "https://localhost:8080/"
        },
        "id": "1OOTpStUk1mf",
        "outputId": "8635306d-3e4e-4e19-a83f-150e80b50fa3"
      },
      "execution_count": 48,
      "outputs": [
        {
          "output_type": "stream",
          "name": "stdout",
          "text": [
            "SARIMA MAPE: 6.851297422845491\n"
          ]
        }
      ]
    },
    {
      "cell_type": "markdown",
      "source": [
        "Achha 👌 tumne SARIMA try kiya aur MAPE ≈ 6.85% aaya, jo ARIMA ke 2.55% se zyada hai.\n",
        "Matlab is case me SARIMA ne ARIMA se better perform nahi kiya.\n",
        "\n",
        "Yeh is liye hota hai:\n",
        "\n",
        "Stock prices me strong seasonal pattern nahi hota (jese electricity demand, sales data, weather data me hota hai).\n",
        "\n",
        "Is wajah se SARIMA ka seasonal part overfitting kar leta hai, aur error barh jata hai."
      ],
      "metadata": {
        "id": "gpNgr6OFk6w-"
      }
    },
    {
      "cell_type": "markdown",
      "source": [
        "# **2. SARMIAX**\n",
        "\n",
        "* SARIMA ka extended version hai.\n",
        "\n",
        "* Full form: Seasonal AutoRegressive Integrated Moving Average with eXogenous regressors.\n",
        "\n",
        "### **🔸 Difference between SARIMA vs SARIMAX**\n",
        "\n",
        "SARIMA → sirf apne past values aur seasonality se forecast banata hai.\n",
        "\n",
        "SARIMAX → apne past values + seasonality + external regressors (jaise interest rate, inflation, oil price, S&P500 index, news sentiment, etc.) use karta hai.\n",
        "\n",
        "### **Example:**\n",
        "\n",
        "Agar tum NVDA (Nvidia) ka stock predict kar rahi ho aur tumhe lagta hai ke\n",
        "\n",
        "Nasdaq Index\n",
        "\n",
        "USD exchange rate\n",
        "\n",
        "Semiconductor sales data\n",
        "\n",
        "iska stock effect karte hain → to ye variables tum SARIMAX me exog parameter me de sakti ho.\n",
        "\n",
        "Exogenous: having an external cause or origin."
      ],
      "metadata": {
        "id": "0VzZM7Vyj4KB"
      }
    },
    {
      "cell_type": "code",
      "source": [
        "from statsmodels.tsa.statespace.sarimax import SARIMAX\n",
        "\n",
        "# Suppose we use Nasdaq index as exog\n",
        "train_exog = nasdaq_data[:'2023']\n",
        "test_exog = nasdaq_data['2024':]\n",
        "\n",
        "model = SARIMAX(train, exog=train_exog, order=(1,1,1), seasonal_order=(0,1,1,12))\n",
        "fit = model.fit()\n",
        "\n",
        "# When forecasting, we must also provide future Nasdaq values\n",
        "forecast = fit.get_forecast(steps=len(test_exog), exog=test_exog)\n",
        "\n"
      ],
      "metadata": {
        "id": "tnt4w9bxlv4M"
      },
      "execution_count": 49,
      "outputs": []
    },
    {
      "cell_type": "markdown",
      "source": [
        "Future exog kya hai?\n",
        "\n",
        "Jab tum forecast future values karna chah rahi ho, model ko future ke external variables bhi chahiye.\n",
        "\n",
        "Matlab:\n",
        "\n",
        "Agar tum model ko Nasdaq index dete ho as exog, to future prediction ke liye tumhe aage ke Nasdaq index values bhi deni hongi.\n",
        "\n",
        "Agar tumhe wo values nahi maloom → ya to tum unko bhi predict karoge pehle, ya phir assume karoge."
      ],
      "metadata": {
        "id": "vBJt16vXmS-k"
      }
    },
    {
      "cell_type": "markdown",
      "source": [
        "* Tumhare NVDA dataset me abhi sirf NVDA ka stock data hai, koi external variable nahi.\n",
        "* Is liye SARIMAX run karne ke liye hum ya to:\n",
        "\n",
        "* Bina exog run karein (wo SARIMA jesa hi ban jayega),\n",
        "\n",
        "* Ya extra data (e.g., Nasdaq Index) bhi Yahoo Finance se download karke use karein."
      ],
      "metadata": {
        "id": "xdIusLtEj4Oz"
      }
    },
    {
      "cell_type": "markdown",
      "source": [
        "# **3. VAR (Vector Auto Regressor)**\n",
        "\n",
        "* VAR multiple series ke beech ke relationships seekhta hai aur unko ek saath predict karta hai.\n",
        "\n",
        "## **🔸 Example**\n",
        "\n",
        "* Agar tumhare paas sirf NVDA stock price hai → ARIMA/SARIMA theek hai.\n",
        "\n",
        "* Lekin agar tumhare paas multiple related time series hain, jaise:\n",
        "\n",
        "    * NVDA stock price\n",
        "\n",
        "    * AMD stock price\n",
        "\n",
        "    * Nasdaq Index\n",
        "\n",
        "    * Trading Volume\n",
        "\n",
        "to VAR in sabko ek saath model karega, kyunki ye ek dusre ko influence karte hain.\n",
        "\n",
        "## **🔹 VAR ke assumptions**\n",
        "\n",
        "Saari series stationary honi chahiye (mean & variance constant over time).\n",
        "\n",
        "Saari series ek DataFrame me ho (multivariate).\n"
      ],
      "metadata": {
        "id": "pfcthqRPj4RL"
      }
    },
    {
      "cell_type": "code",
      "source": [
        "from statsmodels.tsa.api import VAR\n",
        "import pandas as pd\n",
        "\n",
        "# Suppose we have NVDA and AMD data\n",
        "df = pd.concat([nvda['Close'], amd['Close']], axis=1)\n",
        "df.columns = ['NVDA', 'AMD']\n",
        "\n",
        "# Check stationarity (ADF test) and make stationary if needed\n",
        "# Train-Test Split\n",
        "train = df[:-30]\n",
        "test = df[-30:]\n",
        "\n",
        "# Fit VAR model\n",
        "model = VAR(train)\n",
        "model_fitted = model.fit(5)  # lag order\n",
        "\n",
        "# Forecast\n",
        "forecast = model_fitted.forecast(train.values, steps=30)\n",
        "forecast_df = pd.DataFrame(forecast, index=test.index, columns=['NVDA_forecast','AMD_forecast'])\n"
      ],
      "metadata": {
        "id": "13bWOtlGnK0k"
      },
      "execution_count": null,
      "outputs": []
    },
    {
      "cell_type": "markdown",
      "source": [
        "⚡ Matlab:\n",
        "\n",
        "Agar tum NVDA + AMD ya NVDA + Nasdaq Index download kar lo, tab VAR try kar sakte ho.\n",
        "\n",
        "Warna abhi ke liye ye method skip karna padega."
      ],
      "metadata": {
        "id": "fYEe1KN_j4aa"
      }
    },
    {
      "cell_type": "markdown",
      "source": [
        "# **How to make data Stationary:**\n",
        "\n",
        "* Differencing (data(t) - data(t-1))\n",
        "\n",
        "* Transformation (log, sqrt, etc.)\n",
        "\n",
        "* ADF ek test hai, method nahi.\n",
        "\n",
        "# **Prophet ka advantage:**\n",
        "\n",
        "* Prophet automatically handle karta hai seasonality, holidays, missing values.\n",
        "\n",
        "* Use karna ARIMA se zyada easy hai (Facebook ne non-experts ke liye banaya).\n"
      ],
      "metadata": {
        "id": "nZ23zdYTr283"
      }
    }
  ]
}