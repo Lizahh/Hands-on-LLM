{
  "nbformat": 4,
  "nbformat_minor": 0,
  "metadata": {
    "colab": {
      "provenance": []
    },
    "kernelspec": {
      "name": "python3",
      "display_name": "Python 3"
    },
    "language_info": {
      "name": "python"
    }
  },
  "cells": [
    {
      "cell_type": "markdown",
      "source": [
        "# **🔹 What is NeuralProphet?**\n",
        "\n",
        "* It’s an upgrade to Prophet made by Facebook engineers + PyTorch.\n",
        "\n",
        "* Same idea: decomposable model = trend + seasonality + events\n",
        "\n",
        "* BUT: it also adds neural network features for more flexibility.\n",
        "\n",
        "👉 Think of it as Prophet + Deep Learning power."
      ],
      "metadata": {
        "id": "OtgOrXlv8SQA"
      }
    },
    {
      "cell_type": "markdown",
      "source": [
        "# **🔹 What’s Inside NeuralProphet?**\n",
        "\n",
        "NeuralProphet = Prophet’s brain 🧠 + Neural nets’ muscles 💪\n",
        "\n",
        "## **Trend**\n",
        "\n",
        "* Same as Prophet (piecewise linear or logistic growth).\n",
        "\n",
        "## **Seasonality**\n",
        "\n",
        "* Fourier series like Prophet.\n",
        "\n",
        "* BUT also supports auto-regression, so it can learn patterns from past lags (like ARIMA).\n",
        "\n",
        "✅ What are lagged values?\n",
        "\n",
        "Lag ka matlab hota hai → pichlay time step ki value.\n",
        "\n",
        "* Lag 1 = kal ki value.\n",
        "\n",
        "* Lag 2 = parso ki value.\n",
        "\n",
        "* Lag 7 = ek hafte pehle ki value.\n",
        "\n",
        "👉 Lagged values ka use:\n",
        "\n",
        "* Time series me aaj ka data aksar pichlay dinon pe depend karta hai.\n",
        "\n",
        "Example:\n",
        "\n",
        "* Aaj ki bijli ki demand kal ki demand jaisi hogi (lag-1 effect).\n",
        "\n",
        "* Ice-cream ki sales garmi (lagged temperature effect) se linked hoti hain.\n",
        "\n",
        "* ARIMA models isi concept pe based hote hain:\n",
        "\n",
        "      yt​=ϕ1​yt−1​+ϕ2​yt−2​+⋯+εt​\n",
        "\n",
        "Matlab aaj ka forecast kal, parso, aur pichlay dinon ki sales ka function hai.\n",
        "\n",
        "👉 NeuralProphet me bhi ye feature aa gaya hai:\n",
        "\n",
        "Tum bol sakte ho: n_lags=7 → NeuralProphet aaj ka forecast pichlay 7 din ki values dekh kar banayega.\n",
        "\n",
        "📌 Prophet me ye feature nahi tha (wo sirf trend + seasonality dekhta tha, lagged values ko ignore karta tha).\n",
        "\n",
        "\n",
        "## **Events / Holidays**\n",
        "\n",
        "* Same as Prophet (special spikes for events).\n",
        "\n",
        "## **Auto-regression (AR)**\n",
        "\n",
        "* Prophet did NOT have this.\n",
        "\n",
        "* NeuralProphet can say: “Tomorrow’s sales depend partly on yesterday’s sales.”\n",
        "\n",
        "* Like ARIMA-style lagged values.\n",
        "\n",
        "## **Future Regressors**\n",
        "\n",
        "* You can add extra info (promo, weather, price) same as Prophet.\n",
        "\n",
        "## **Deep Learning Training**\n",
        "\n",
        "* Uses PyTorch backend → can run on GPU, train faster, and scale bigger.\n",
        "\n",
        "* Learns nonlinear relationships better."
      ],
      "metadata": {
        "id": "2nFw3W4v8SUY"
      }
    },
    {
      "cell_type": "markdown",
      "source": [
        "## **Prophet vs NeuralProphet**\n",
        "\n",
        "| Feature                  | Prophet         | NeuralProphet                   |\n",
        "| ------------------------ | --------------- | ------------------------------- |\n",
        "| Trend                    | Yes             | Yes                             |\n",
        "| Seasonality              | Yes             | Yes                             |\n",
        "| Holidays/Events          | Yes             | Yes                             |\n",
        "| Extra Regressors         | Yes             | Yes                             |\n",
        "| Auto-regression (lags)   | ❌ No            | ✅ Yes                           |\n",
        "| Built on                 | Stan (Bayesian) | PyTorch (Neural Nets)           |\n",
        "| Handles complex patterns | Limited         | Better                          |\n",
        "| Speed                    | Fast, simple    | Slightly heavier, but GPU helps |\n"
      ],
      "metadata": {
        "id": "rjxGxaxR8SW-"
      }
    },
    {
      "cell_type": "markdown",
      "source": [
        "### **✅ What does Stan (Bayesian) mean?**\n",
        "\n",
        "* Stan ek statistical programming language hai (developed at Stanford, isliye naam Stan).\n",
        "\n",
        "* Prophet internally Stan use karta hai to estimate model parameters.\n",
        "\n",
        "* Stan ka kaam: “fit the model using Bayesian methods”.\n",
        "\n",
        "🔹 Bayesian ka matlab?\n",
        "\n",
        "* Parameters ke liye ek probability distribution banata hai (not just one fixed number).\n",
        "\n",
        "* Isliye Prophet ke predictions hamesha ek shaded confidence interval ke sath aate hain → wo interval actually Bayesian posterior se aata hai jo Stan calculate karta hai.\n",
        "\n",
        "👉 To simplify:\n",
        "\n",
        "* Prophet = statistical model built in Python, but andar hi andar Stan use karta hai parameter estimation ke liye.\n",
        "\n",
        "* NeuralProphet = Stan ko side me rakhta hai, instead PyTorch (deep learning framework) use karta hai."
      ],
      "metadata": {
        "id": "Rwy8hLMD8SY6"
      }
    },
    {
      "cell_type": "markdown",
      "source": [
        "# **🔹 Example Use Case**\n",
        "\n",
        "Suppose you predict Rossmann sales again:\n",
        "\n",
        "* Prophet: captures trend + weekly/yearly seasonality + promo.\n",
        "\n",
        "* NeuralProphet: also learns from yesterday’s sales (lags), so if a promo was yesterday and spillover happens today, it can capture it."
      ],
      "metadata": {
        "id": "JnZJt34A8Sa2"
      }
    },
    {
      "cell_type": "code",
      "source": [
        "from neuralprophet import NeuralProphet\n",
        "\n",
        "# 1. Model\n",
        "m = NeuralProphet(\n",
        "    yearly_seasonality=True,\n",
        "    weekly_seasonality=True,\n",
        "    daily_seasonality=False,\n",
        "    n_lags=7,  # use past 7 days as input\n",
        "    n_forecasts=14  # forecast 14 days ahead\n",
        ")\n",
        "\n",
        "# 2. Add regressors\n",
        "m.add_future_regressor(\"Promo\")\n",
        "m.add_country_holidays(\"DE\")\n",
        "\n",
        "# 3. Fit\n",
        "forecast = m.fit(train_df, freq=\"D\")\n",
        "\n",
        "# 4. Predict\n",
        "future = m.make_future_dataframe(train_df, periods=90, n_historic_predictions=True)\n",
        "forecast = m.predict(future)\n",
        "\n",
        "# 5. Plot\n",
        "m.plot(forecast)\n",
        "m.plot_components(forecast)\n"
      ],
      "metadata": {
        "id": "7P_lkU6y9w5x"
      },
      "execution_count": null,
      "outputs": []
    }
  ]
}