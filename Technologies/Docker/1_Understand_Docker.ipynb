{
  "nbformat": 4,
  "nbformat_minor": 0,
  "metadata": {
    "colab": {
      "provenance": []
    },
    "kernelspec": {
      "name": "python3",
      "display_name": "Python 3"
    },
    "language_info": {
      "name": "python"
    }
  },
  "cells": [
    {
      "cell_type": "markdown",
      "source": [
        "1. Docker is a powerful tool that has transformed how applications are packaged, shipped, and run.\n",
        "\n",
        "# **Q: How the software development worked when Docker wasn't there?**\n",
        "\n",
        "Answer:\n",
        "\n",
        "* We know that the software development requires involvement of different teams like the 1) development team, 2) the testing team, and 3) the operations team (In software or product lifecycle, the operational team is the group that handles the deployment, running, and day-to-day functioning of the system after development and testing are done.).\n",
        "\n",
        "* Individual teams work in individual environments to accomplish their work. That is the key problem here. Their environments are different. Hence, the code developed does not behave the same in the different environments.\n",
        "\n",
        "* Therefore, different issues arise due to separated way of installation and configuration of the systems used by different teams.\n"
      ],
      "metadata": {
        "id": "jS6u2EnFrYgb"
      }
    },
    {
      "cell_type": "markdown",
      "source": [
        "# **Solution to this problem:**\n",
        "\n",
        "1. We have virtualization and containerization  to solve the problems.\n",
        "\n",
        "## **1. Virtualization:**\n",
        "\n",
        "* In virtualization, we create a virtual machine with its own CPU, memory, and storage. The virtual machine functions as a virtual computer.\n",
        "\n",
        "* Note, to run the virtualization, we need a hypervisor.\n",
        "\n",
        "### **--> What is Hypervisor:**\n",
        "\n",
        "  * A hypervisor is an application which enables us to segregate the hardware resources and provision them to a virtual machine.\n",
        "  \n",
        "  * Jab tum apne computer (physical machine) pe ek virtual machine banati ho, to us VM ko chalne ke liye CPU, memory, storage chahiye.\n",
        "\n",
        "  * Ye jo allocation aur control karta hai — kaun se VM ko kitni memory milegi, kaun se VM ko kitne CPU cores milenge, storage kaise divide hoga — wo kaam hypervisor karta hai.\n",
        "\n",
        "### **-->Hypervisor always pre-installed hota hai ya nahi?**\n",
        "\n",
        "  * ➡️ No, by default tumhare computer me hypervisor nahi hota.\n",
        "Tumhe install karna padta hai (agar tum VM chalana chahti ho).\n",
        "\n",
        "### **--------- Types of Hypervisors ----------**\n",
        "\n",
        "#### **Type 1: Hypervisor (Hosted)**\n",
        "\n",
        "  * Ye tumhari normal operating system (Windows, Linux, Mac) pe install hota hai jese software.\n",
        "\n",
        "  * Examples:\n",
        "\n",
        "      * Oracle VirtualBox\n",
        "\n",
        "      * VMware Workstation\n",
        "\n",
        "  * Matlab: tum pehle Windows use kar rahi ho, uske andar VirtualBox install karogi → wo hypervisor ka kaam karega.\n",
        "\n",
        "  * Summary:\n",
        "\n",
        "    * Tumhare paas ek OS (Windows/Linux/Mac) already hai.\n",
        "\n",
        "    * Uske upar tum install karti ho VirtualBox/VMware Workstation.\n",
        "\n",
        "    * Matlab tumhara OS = primary boss, aur hypervisor us boss ke neeche ek employee hai.\n",
        "\n",
        "\n",
        "#### **Type 2: Hypervisor (Bare-metal)**\n",
        "\n",
        "  * Ye directly tumhare hardware pe install hota hai, OS ke bina.\n",
        "\n",
        "  * Examples:\n",
        "\n",
        "    * VMware ESXi\n",
        "\n",
        "    * Microsoft Hyper-V Server\n",
        "\n",
        "    * Xen\n",
        "\n",
        "  * Ye usually servers me use hota hai, na ke normal laptops/desktops me.\n",
        "\n",
        "  * Summary:\n",
        "\n",
        "    * Yahan koi normal OS nahi hota.\n",
        "\n",
        "    * Tum directly hypervisor hi install karti ho hardware pe.\n",
        "\n",
        "    * Matlab tumhare computer ka “primary boss” hi hypervisor ban jata hai.\n",
        "\n",
        "    * Uske andar tum VM banati ho aur un VMs ke andar apne OS install karti ho.\n",
        "\n",
        "  * Example with VMware ESXi 🔥\n",
        "\n",
        "    * Socho tumhare paas ek khaali server/laptop hai (abhi isme Windows/Linux kuch nahi hai).\n",
        "\n",
        "    * Tum usme VMware ESXi ISO download karke install karti ho — jaise normally tum Windows install karti ho.\n",
        "\n",
        "    * Install ke baad jo boot hota hai, wo Windows/Linux nahi hoga → wo ESXi Hypervisor hoga.\n",
        "\n",
        "    * Ab tum ESXi ke management console se alag-alag VMs banati ho → ek VM me Windows, doosre me Ubuntu, teesre me Red Hat Linux.\n",
        "\n",
        "    * 👉 Matlab: tumhari machine ka primary OS hi hypervisor hai.\n",
        "\n",
        "\n",
        "\n",
        "**Summary:**\n",
        "\n",
        "  * Agar tum normal Windows/Linux laptop use kar rahi ho → hypervisor pehle se nahi hota.\n",
        "\n",
        "  * Tumhe VirtualBox / VMware Workstation jesa software install karna padta hai.\n",
        "\n",
        "  * Lekin agar tumne Windows Pro/Enterprise install kiya hai, usme ek built-in hypervisor hota hai jiska naam hai Hyper-V (bas usko enable karna padta hai).\n"
      ],
      "metadata": {
        "id": "VlnLFq706X1z"
      }
    },
    {
      "cell_type": "markdown",
      "source": [
        "  * The hypervisor has its own tiny Linux-based operating system. It gets installed on a physical hardware. Then it allows us to create virtual machines using the hypervisor. The virtual machines are fully isolated and work as an individual system."
      ],
      "metadata": {
        "id": "K-eQkWD6GbG2"
      }
    },
    {
      "cell_type": "markdown",
      "source": [
        "## **Components of Virtual Machine:**\n",
        "\n",
        "* We can create multiple virtual machines on a single server.\n",
        "\n",
        "* Components of virtualization, the host, the guest, and the virtualization layer. Let us understand individually.\n",
        "\n",
        "1. A host (Original/Actual Machine) is the actual resource extracted from the bear metal using the hypervisor and behaves as an individual system. Host apne resources ko share karta hai virtual machines ke saath (through hypervisor). 👉 Example: Tumhara Dell laptop jisme 16 GB RAM aur 500 GB SSD hai = Host.\n",
        "\n",
        "2. The virtualization layer (hypervisor) enables us to create different or similar environments where the guest OS will run. The other solution we have is container. 👉 Example: VirtualBox, VMware ESXi, Hyper-V = Virtualization Layer. Ye hi “magic” layer hai jo virtual machines ko chalne deti hai.\n",
        "\n",
        "2. The guest (Virtual Machine + VM ka OS) is the operating system installed on top of the virtual machine which supports requirements of your application and your application runs on it. Isme tum Operating System install karti ho (Guest OS) — jaise Windows ya Linux. Har guest apne aap ko independent computer samajhta hai (halanke wo asal me host ke resources borrow kar raha hai).\n",
        "\n",
        "\n",
        "# Million Dollar Question: VM to aik system pe hoti eh msla to phr wahin eh k sb ki apni machine pe VM eh. docker to smjh ata eh k kahin b container chala lo . par VM kesy acces kr skty hain sb\n",
        "\n",
        "Answer: 👉 Bilkul! Agar sab apni laptop pe VirtualBox VMs bana lete, to problem solve nahi hoti — kyunki environment phir bhi scattered hota.\n",
        "\n",
        "* Production-grade setup me VM sirf personal laptop pe nahi banti, balki:\n",
        "\n",
        "* Central Server/Datacenter me VM banayi jaati hai (using VMware ESXi, Hyper-V, or KVM).\n",
        "\n",
        "* Har team (dev, QA, ops) us same VM ko remote access karti hai.\n",
        "\n",
        "  e.g., Tester apni machine se RDP/SSH karke VM join karega.\n",
        "\n",
        "* Developer bhi wahi VM join karega.\n",
        "\n",
        "* Ops bhi wahi VM join karega.\n",
        "\n",
        "* Matlab sab ek shared standardized VM environment pe kaam karte hain → consistency aa jati hai.\n",
        "\n",
        "👉 Soch lo ek big server hai jisme multiple VMs chal rahi hain. Har VM ek isolated environment hai, aur teams un VMs me login kar ke kaam karti hain.\n",
        "\n",
        "Jese tm china me access krti ti VM e ti wo GPU keh k jisy access krti ti tm. SSH k through. wo jo lab me bary bary GPU pary thy uspe OS installed tha. usko tm SSH kr k access kr leti ti apna code uspe shift krti ti or phr chalati ti us VM pe, wo actual me VM e thi jisy koi b access kr paata tha. isi lie sb usko use krty thy.\n"
      ],
      "metadata": {
        "id": "_z9wVjZpGpDd"
      }
    },
    {
      "cell_type": "markdown",
      "source": [
        "## **2. Container:**\n",
        "\n",
        "* A container is a standard unit of software that packages up the code and all its dependencies so that the application runs quickly and reliably from one computing environment to another.\n",
        "\n",
        "* Ek container ek dabba (box) hota hai jisme tumhari application + uske saath sari zaroori cheezein (dependencies, libraries, configs) band hoti hain. Matlab agar tum us dabbe ko kahin bhi le jao (apna computer, server, cloud), wo same tarah se chalega — bina \"but yahan dependency missing hai!\" wale errors ke. 👉 Ek line: Container = ek portable box jisme app aur uski saari zaroorat ka saman band hai.\n",
        "\n",
        "* Docker is an implementation of containerization. mtlb container k dabbay ka kya krna agr us dabbay ko kisi jaga chala na sken usko chalany k lie koi platform to ho jo usko chala skay. wo platform docker eh.\n",
        "\n",
        "“A container is like a portable box that holds an application and all its dependencies so it runs the same everywhere. Docker is the most popular container platform that lets you build, ship, and run these containers quickly and reliably.”\n",
        "\n",
        "* By taking advantage of Docker's methodologies for shipping, testing and deploying code quickly, you can significantly reduce the delay writing code and running it in production."
      ],
      "metadata": {
        "id": "ln3iJP1BIZMi"
      }
    }
  ]
}